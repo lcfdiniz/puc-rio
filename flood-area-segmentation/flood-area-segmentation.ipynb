{
  "cells": [
    {
      "cell_type": "markdown",
      "metadata": {
        "id": "view-in-github",
        "colab_type": "text"
      },
      "source": [
        "<a href=\"https://colab.research.google.com/github/lcfdiniz/puc-rio/blob/main/flood-area-segmentation/flood-area-segmentation.ipynb\" target=\"_parent\"><img src=\"https://colab.research.google.com/assets/colab-badge.svg\" alt=\"Open In Colab\"/></a>"
      ]
    },
    {
      "cell_type": "code",
      "execution_count": null,
      "metadata": {
        "id": "mq1wHeS5oX05"
      },
      "outputs": [],
      "source": [
        "import warnings\n",
        "warnings.filterwarnings(\"ignore\")"
      ]
    },
    {
      "cell_type": "markdown",
      "source": [
        "# Segmentação de área de inundações\n",
        "\n",
        "por [Lucas Fiorani Diniz](https://www.linkedin.com/in/lcfdiniz/)"
      ],
      "metadata": {
        "id": "eAC4sILbog1m"
      }
    },
    {
      "cell_type": "markdown",
      "source": [
        "## Definição do Problema"
      ],
      "metadata": {
        "id": "2lFP4QHzowiJ"
      }
    },
    {
      "cell_type": "markdown",
      "source": [
        "## Preparação de Dados"
      ],
      "metadata": {
        "id": "iWXTQCnso1Oh"
      }
    },
    {
      "cell_type": "markdown",
      "source": [
        "## Modelagem e Treinamento"
      ],
      "metadata": {
        "id": "cKB6oI7Qo3Wz"
      }
    },
    {
      "cell_type": "markdown",
      "source": [
        "## Avaliação de Resultados"
      ],
      "metadata": {
        "id": "Ygekt-EQo8QK"
      }
    }
  ],
  "metadata": {
    "language_info": {
      "name": "python"
    },
    "orig_nbformat": 4,
    "colab": {
      "provenance": [],
      "toc_visible": true,
      "include_colab_link": true
    }
  },
  "nbformat": 4,
  "nbformat_minor": 0
}