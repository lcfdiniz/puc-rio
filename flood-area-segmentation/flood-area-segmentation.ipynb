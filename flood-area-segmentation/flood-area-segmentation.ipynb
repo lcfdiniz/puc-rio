{
  "cells": [
    {
      "cell_type": "markdown",
      "metadata": {
        "id": "view-in-github",
        "colab_type": "text"
      },
      "source": [
        "<a href=\"https://colab.research.google.com/github/lcfdiniz/puc-rio/blob/main/flood-area-segmentation/flood-area-segmentation.ipynb\" target=\"_parent\"><img src=\"https://colab.research.google.com/assets/colab-badge.svg\" alt=\"Open In Colab\"/></a>"
      ]
    },
    {
      "cell_type": "code",
      "execution_count": null,
      "metadata": {
        "id": "mq1wHeS5oX05"
      },
      "outputs": [],
      "source": [
        "import warnings\n",
        "warnings.filterwarnings(\"ignore\")"
      ]
    },
    {
      "cell_type": "markdown",
      "source": [
        "# Segmentação de área de inundações\n",
        "\n",
        "por [Lucas Fiorani Diniz](https://www.linkedin.com/in/lcfdiniz/)"
      ],
      "metadata": {
        "id": "eAC4sILbog1m"
      }
    },
    {
      "cell_type": "markdown",
      "source": [
        "## Definição do Problema\n",
        "\n",
        "As enchentes e inundações representam um grande desafio para o Brasil, um país com vasta extensão territorial, grandes bacias hidrográficas e condições climáticas diversas.\n",
        "\n",
        "As inundações ocorrem quando a capacidade dos rios, córregos, lagos e sistemas de drenagem é ultrapassada, resultando no transbordamento de água para áreas não projetadas para suportar volumes tão elevados.\n",
        "\n",
        "Diversos fatores contribuem para o aumento do risco de inundações no Brasil, incluindo a urbanização desordenada, mudanças no uso do solo, desmatamento, assoreamento dos rios, falta de infraestrutura adequada e eventos climáticos extremos.\n",
        "\n",
        "A chegada do El Niño [[1]](https://veja.abril.com.br/agenda-verde/secas-enchentes-e-calorao-como-o-el-nino-afeta-o-brasil) em julho de 2023, por exemplo, promete intensificar o regime de chuvas nas regiões Sul e Sudeste, o que aliado a falta de infraestrutura adequada de drenagem, pode levar a inundações rápidas e devastadoras, resultando em danos materiais, deslocamentos populacionais e perda de vidas.\n",
        "\n",
        "Nesse cenário, o uso de técnicas de inteligência artificial se mostra uma medida promissora, auxiliando comunidades e regiões no enfrentamento e recuperação desses desastres.\n",
        "\n",
        "Esse trabalho propõe o desenvolvimento de um modelo de segmentação semântica de imagens para detecção de áreas de inundação. Entre as oportunidades oferecidas por um modelo como esse, estão:\n",
        "\n",
        "- Identificação de áreas afetadas pelas inundações, ajudando na avaliação rápida e precisa do alcance e extensão desses fenônomenos em determinada região;\n",
        "\n",
        "- Monitoramento em tempo real de enchentes e inundações, detectando áreas mais críticas e servindo de apoio a decisão de equipes de emergência;\n",
        "\n",
        "- Gerar dados para um melhor planejamento urbano, permitindo medidas preventivas mais assertivas, como a construção de infraestrutura adequada e melhorias dos sistemas de drenagem.\n",
        "\n",
        "O modelo treinado ainda poderia ser aplicado na estimativa de área inundada por reservatórios de usinas hidrelétricas, ajudando no controle operacional das mesmas."
      ],
      "metadata": {
        "id": "2lFP4QHzowiJ"
      }
    },
    {
      "cell_type": "markdown",
      "source": [
        "### Restrições e condições respeitadas\n",
        "\n",
        "Para se obter os dados do problema, a plataforma [Kaggle](https://www.kaggle.com/datasets) foi consultada. O Kaggle é a maior comunidade online de cientistas de dados e praticantes de Machine Learning, disponibilizando recursos valiosos para seus usuários, como datasets variados.\n",
        "\n",
        "O melhor dataset encontrado para o problema foi o [*Flood Area Segmentation*](https://www.kaggle.com/datasets/faizalkarim/flood-area-segmentation). Esse conjunto de dados possui imagens de inundações acompanhadas das respectivas máscaras binárias, identificando os pixels correspondente às áreas de enchente.\n",
        "\n",
        "Algumas considerações devem ser feitas a respeito desse dataset:\n",
        "\n",
        "- O baixo número de imagens (290) indica que o uso de técnicas de *data augmentation* e modelos pré-treinados pode ser eficaz;\n",
        "\n",
        "- O ângulo de captura das imagens pode ser um fator limitante para a correta estimativa da área afetada, devido às possíveis distorções dos elementos do cenário. Imagens aéreas com a câmera totalmente apontada para baixo podem evitar esse problemas."
      ],
      "metadata": {
        "id": "ciKagHCC00wc"
      }
    },
    {
      "cell_type": "markdown",
      "source": [
        "### Dataset utilizado\n",
        "\n",
        "O dataset utilizado possui 290 imagens de enchentes em formato JPEG, acompanhadas de suas respectivas máscaras binárias em formato PNG. O conjunto de dados é acompanhado ainda de um arquivo contendo os metadados, `metadata.csv`, que registra a relação entre cada par de imagem e máscara."
      ],
      "metadata": {
        "id": "iYRlZ8Fy28eG"
      }
    },
    {
      "cell_type": "markdown",
      "source": [
        "## Preparação de Dados"
      ],
      "metadata": {
        "id": "iWXTQCnso1Oh"
      }
    },
    {
      "cell_type": "markdown",
      "source": [
        "## Modelagem e Treinamento"
      ],
      "metadata": {
        "id": "cKB6oI7Qo3Wz"
      }
    },
    {
      "cell_type": "markdown",
      "source": [
        "## Avaliação de Resultados"
      ],
      "metadata": {
        "id": "Ygekt-EQo8QK"
      }
    }
  ],
  "metadata": {
    "language_info": {
      "name": "python"
    },
    "orig_nbformat": 4,
    "colab": {
      "provenance": [],
      "toc_visible": true,
      "include_colab_link": true
    }
  },
  "nbformat": 4,
  "nbformat_minor": 0
}