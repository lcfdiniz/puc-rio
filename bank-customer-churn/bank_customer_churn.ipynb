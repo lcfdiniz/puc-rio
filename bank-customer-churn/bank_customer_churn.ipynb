{
  "nbformat": 4,
  "nbformat_minor": 0,
  "metadata": {
    "colab": {
      "provenance": [],
      "toc_visible": true,
      "authorship_tag": "ABX9TyPTbr1SdgWhEIlAtoFVv9a6",
      "include_colab_link": true
    },
    "kernelspec": {
      "name": "python3",
      "display_name": "Python 3"
    },
    "language_info": {
      "name": "python"
    }
  },
  "cells": [
    {
      "cell_type": "markdown",
      "metadata": {
        "id": "view-in-github",
        "colab_type": "text"
      },
      "source": [
        "<a href=\"https://colab.research.google.com/github/lcfdiniz/puc-rio/blob/main/bank-customer-churn/bank_customer_churn.ipynb\" target=\"_parent\"><img src=\"https://colab.research.google.com/assets/colab-badge.svg\" alt=\"Open In Colab\"/></a>"
      ]
    },
    {
      "cell_type": "code",
      "source": [
        "import warnings\n",
        "warnings.filterwarnings(\"ignore\")\n",
        "\n",
        "import pandas as pd\n",
        "import numpy as np\n",
        "import matplotlib.pyplot as plt\n",
        "import seaborn as sns\n",
        "from sklearn.model_selection import train_test_split\n",
        "from sklearn.feature_selection import SelectKBest\n",
        "from sklearn.feature_selection import f_classif\n",
        "from sklearn.ensemble import ExtraTreesClassifier\n",
        "from sklearn.preprocessing import OneHotEncoder\n",
        "from sklearn.model_selection import StratifiedKFold\n",
        "from sklearn.pipeline import Pipeline\n",
        "from sklearn.compose import ColumnTransformer\n",
        "from sklearn.preprocessing import StandardScaler\n",
        "from sklearn.preprocessing import MinMaxScaler\n",
        "from sklearn.feature_selection import SelectFromModel\n",
        "from sklearn.linear_model import LogisticRegression\n",
        "from sklearn.tree import DecisionTreeClassifier\n",
        "from sklearn.svm import SVC\n",
        "from sklearn.neighbors import KNeighborsClassifier\n",
        "from sklearn.naive_bayes import GaussianNB\n",
        "from sklearn.ensemble import RandomForestClassifier\n",
        "from sklearn.ensemble import AdaBoostClassifier\n",
        "from sklearn.ensemble import GradientBoostingClassifier\n",
        "from sklearn.metrics import fbeta_score\n",
        "from sklearn.metrics import make_scorer\n",
        "from sklearn.model_selection import cross_val_score"
      ],
      "metadata": {
        "id": "CxeNRcz3HwJZ"
      },
      "execution_count": 35,
      "outputs": []
    },
    {
      "cell_type": "markdown",
      "source": [
        "# Predição de churn para clientes de banco\n",
        "\n",
        "por [Lucas Fiorani Diniz](https://www.linkedin.com/in/lcfdiniz/)"
      ],
      "metadata": {
        "id": "oJr5G_lkO7XF"
      }
    },
    {
      "cell_type": "markdown",
      "source": [
        "## Definição do Problema\n",
        "\n",
        "A taxa de churn (*churn rate*) é uma métrica que aponta a rotatividade dos clientes de uma empresa, ou de forma mais direta, o número de clientes que deixaram de fazer negócios com a empresa em um determinado período de tempo.\n",
        "\n",
        "Entre as maneiras de se reduzir o churn de uma empresa, estão o entendimento dos motivos do cancelamento e identificação dos clientes com maior chance de ir embora.\n",
        "\n",
        "Com essa abordagem, é possível realizar ações preventivas efetivas, que mantenham os clientes na base por mais tempo. O investimento na predição de churn e consequente retenção de clientes é extremamente eficiente, dado que o custo para se adquirir um novo cliente pode ser de 5 a 7 vezes maior do que manter um atual. [[1]](https://jrs.digital/conquistar-um-novo-cliente-custa-entre-5-a-7-vezes-mais-que-manter-um-atual/#:~:text=Segundo%20o%20economista%20americano%20Philip,de%20clientes%2C%20usu%C3%A1rios%20e%20compradores.)\n",
        "\n",
        "Nesse sentido, técnicas de Machine Learning possuem um grande potencial de identificar com sucesso os fatores que levam aos cancelamentos dos serviços e os clientes com maior probabilidade de se tornarem churn.\n",
        "\n",
        "Para o caso das instituições bancárias, altas taxas de churn podem impactar diretamente sua receita e rentabilidade. Entre os motivos para que um cliente possa decidir encerrar sua conta bancária ou deixar de utilizar os serviços de um banco, estão:\n",
        "\n",
        "- Insatisfação com os serviços oferecidos;\n",
        "- Má experiência com os produtos financeiros;\n",
        "- Concorrência;\n",
        "- Mudanças nas circunstâncias pessoais do cliente.\n",
        "\n",
        "Caso essas instituições sejam capazes de identificar as causas e clientes com maior potencial de churn, é possível adotar estratégias como:\n",
        "\n",
        "- Melhoria dos serviços;\n",
        "- Personalização de ofertas e recomendações;\n",
        "- Programas de fidelidade e recompensa;\n",
        "- Monitoramento proativo."
      ],
      "metadata": {
        "id": "PiOy0PNzLwPr"
      }
    },
    {
      "cell_type": "markdown",
      "source": [
        "### Levantamento de hipóteses\n",
        "\n",
        "Considerando o contexto apresentado acima, é possível levantar as seguintes hipóteses a respeito da relação dos clientes de uma instituição bancária e a taxa de churn da mesma:\n",
        "\n",
        "- Os clientes com uma maior pontuação de crédito são menos propensos a deixarem o banco;\n",
        "\n",
        "- Os clientes com maior idade são menos propensos a deixarem o banco;\n",
        "\n",
        "- Os clientes com contas mais antigas são mais leais e, portanto, são menos propensos a deixarem o banco;\n",
        "\n",
        "- Os clientes que utilizam cartão de crédito são menos propensos a deixarem o banco;\n",
        "\n",
        "- Os clientes mais ativos são menos propensos a deixarem o banco;\n",
        "\n",
        "- Os clientes com reclamações mal-solucionadas são mais propensos a deixarem o banco."
      ],
      "metadata": {
        "id": "vGH8Qcu_bzpq"
      }
    },
    {
      "cell_type": "markdown",
      "source": [
        "### Restrições e condições respeitadas\n",
        "\n",
        "Para se obter os dados do problema, a plataforma [Kaggle](https://www.kaggle.com/datasets) foi consultada. O Kaggle é a maior comunidade online de cientistas de dados e praticantes de Machine Learning, disponibilizando recursos valiosos para seus usuários, como datasets variados.\n",
        "\n",
        "O melhor dataset encontrado para o problema foi o [*Bank Customer Churn*](https://www.kaggle.com/datasets/radheshyamkollipara/bank-customer-churn?select=Customer-Churn-Records.csv). Esse conjunto de dados possui registros do mês de abril de 2022, sendo portanto bastante recente. Cada entrada desse dataset representa um cliente, e para cada um desses estão disponíveis diversas features descrevendo variáveis demográficas, comportamentais e se o mesmo deixou a empresa no mês avaliado (variável alvo).\n",
        "\n",
        "Sendo assim, algumas considerações devem ser feitas:\n",
        "\n",
        "- O modelo pode sofrer um viés em relação ao mês no qual os dados foram obtidos. É possível que a taxa de churn seja distinta de acordo com o mês avaliado, bem como os motivos por trás desse indicador;\n",
        "\n",
        "- A localização geográfica dos clientes e das instituições bancárias é um fator importante. O dataset utilizado apresenta informações demográficas de clientes em países europeus, e portanto sujeitas às particularidades dessas regiões;\n",
        "\n",
        "- Ainda, é possível que o comportamento dos clientes (serviços utilizados, confiança em bancos e a própria educação financeira) em países europeus seja diferente daquele observado para clientes sul-americanos;\n",
        "\n",
        "- Por fim, existem fatores não englobados pelos dados disponibilizados, e que podem influenciar na decisão de um cliente em deixar a instituição bancária. Entre esses, estão possíveis ofertas agressivas da concorrência, condição econômica global e motivações no âmbito pessoal/particular."
      ],
      "metadata": {
        "id": "oTZKq2jub2c8"
      }
    },
    {
      "cell_type": "markdown",
      "source": [
        "### Dataset utilizado"
      ],
      "metadata": {
        "id": "IoJdJyAxb48N"
      }
    },
    {
      "cell_type": "code",
      "source": [
        "# URL para o repositório do GitHub onde os dados foram disponibilizados\n",
        "url = \"https://raw.githubusercontent.com/lcfdiniz/puc-rio/main/bank-customer-churn/data/customer-churn-records.csv\""
      ],
      "metadata": {
        "id": "p5W_KBtRH80W"
      },
      "execution_count": 2,
      "outputs": []
    },
    {
      "cell_type": "code",
      "source": [
        "df = pd.read_csv(url)\n",
        "\n",
        "df.head()"
      ],
      "metadata": {
        "id": "lAYMhk28Huch",
        "outputId": "12c0cc5d-2641-41f1-be02-81d3a8c27c85",
        "colab": {
          "base_uri": "https://localhost:8080/",
          "height": 288
        }
      },
      "execution_count": 3,
      "outputs": [
        {
          "output_type": "execute_result",
          "data": {
            "text/plain": [
              "   RowNumber  CustomerId   Surname  CreditScore Geography  Gender  Age  \\\n",
              "0          1    15634602  Hargrave          619    France  Female   42   \n",
              "1          2    15647311      Hill          608     Spain  Female   41   \n",
              "2          3    15619304      Onio          502    France  Female   42   \n",
              "3          4    15701354      Boni          699    France  Female   39   \n",
              "4          5    15737888  Mitchell          850     Spain  Female   43   \n",
              "\n",
              "   Tenure    Balance  NumOfProducts  HasCrCard  IsActiveMember  \\\n",
              "0       2       0.00              1          1               1   \n",
              "1       1   83807.86              1          0               1   \n",
              "2       8  159660.80              3          1               0   \n",
              "3       1       0.00              2          0               0   \n",
              "4       2  125510.82              1          1               1   \n",
              "\n",
              "   EstimatedSalary  Exited  Complain  Satisfaction Score Card Type  \\\n",
              "0        101348.88       1         1                   2   DIAMOND   \n",
              "1        112542.58       0         1                   3   DIAMOND   \n",
              "2        113931.57       1         1                   3   DIAMOND   \n",
              "3         93826.63       0         0                   5      GOLD   \n",
              "4         79084.10       0         0                   5      GOLD   \n",
              "\n",
              "   Point Earned  \n",
              "0           464  \n",
              "1           456  \n",
              "2           377  \n",
              "3           350  \n",
              "4           425  "
            ],
            "text/html": [
              "\n",
              "  <div id=\"df-fe4cbf19-46a9-4e36-a55e-c6cb6d531727\">\n",
              "    <div class=\"colab-df-container\">\n",
              "      <div>\n",
              "<style scoped>\n",
              "    .dataframe tbody tr th:only-of-type {\n",
              "        vertical-align: middle;\n",
              "    }\n",
              "\n",
              "    .dataframe tbody tr th {\n",
              "        vertical-align: top;\n",
              "    }\n",
              "\n",
              "    .dataframe thead th {\n",
              "        text-align: right;\n",
              "    }\n",
              "</style>\n",
              "<table border=\"1\" class=\"dataframe\">\n",
              "  <thead>\n",
              "    <tr style=\"text-align: right;\">\n",
              "      <th></th>\n",
              "      <th>RowNumber</th>\n",
              "      <th>CustomerId</th>\n",
              "      <th>Surname</th>\n",
              "      <th>CreditScore</th>\n",
              "      <th>Geography</th>\n",
              "      <th>Gender</th>\n",
              "      <th>Age</th>\n",
              "      <th>Tenure</th>\n",
              "      <th>Balance</th>\n",
              "      <th>NumOfProducts</th>\n",
              "      <th>HasCrCard</th>\n",
              "      <th>IsActiveMember</th>\n",
              "      <th>EstimatedSalary</th>\n",
              "      <th>Exited</th>\n",
              "      <th>Complain</th>\n",
              "      <th>Satisfaction Score</th>\n",
              "      <th>Card Type</th>\n",
              "      <th>Point Earned</th>\n",
              "    </tr>\n",
              "  </thead>\n",
              "  <tbody>\n",
              "    <tr>\n",
              "      <th>0</th>\n",
              "      <td>1</td>\n",
              "      <td>15634602</td>\n",
              "      <td>Hargrave</td>\n",
              "      <td>619</td>\n",
              "      <td>France</td>\n",
              "      <td>Female</td>\n",
              "      <td>42</td>\n",
              "      <td>2</td>\n",
              "      <td>0.00</td>\n",
              "      <td>1</td>\n",
              "      <td>1</td>\n",
              "      <td>1</td>\n",
              "      <td>101348.88</td>\n",
              "      <td>1</td>\n",
              "      <td>1</td>\n",
              "      <td>2</td>\n",
              "      <td>DIAMOND</td>\n",
              "      <td>464</td>\n",
              "    </tr>\n",
              "    <tr>\n",
              "      <th>1</th>\n",
              "      <td>2</td>\n",
              "      <td>15647311</td>\n",
              "      <td>Hill</td>\n",
              "      <td>608</td>\n",
              "      <td>Spain</td>\n",
              "      <td>Female</td>\n",
              "      <td>41</td>\n",
              "      <td>1</td>\n",
              "      <td>83807.86</td>\n",
              "      <td>1</td>\n",
              "      <td>0</td>\n",
              "      <td>1</td>\n",
              "      <td>112542.58</td>\n",
              "      <td>0</td>\n",
              "      <td>1</td>\n",
              "      <td>3</td>\n",
              "      <td>DIAMOND</td>\n",
              "      <td>456</td>\n",
              "    </tr>\n",
              "    <tr>\n",
              "      <th>2</th>\n",
              "      <td>3</td>\n",
              "      <td>15619304</td>\n",
              "      <td>Onio</td>\n",
              "      <td>502</td>\n",
              "      <td>France</td>\n",
              "      <td>Female</td>\n",
              "      <td>42</td>\n",
              "      <td>8</td>\n",
              "      <td>159660.80</td>\n",
              "      <td>3</td>\n",
              "      <td>1</td>\n",
              "      <td>0</td>\n",
              "      <td>113931.57</td>\n",
              "      <td>1</td>\n",
              "      <td>1</td>\n",
              "      <td>3</td>\n",
              "      <td>DIAMOND</td>\n",
              "      <td>377</td>\n",
              "    </tr>\n",
              "    <tr>\n",
              "      <th>3</th>\n",
              "      <td>4</td>\n",
              "      <td>15701354</td>\n",
              "      <td>Boni</td>\n",
              "      <td>699</td>\n",
              "      <td>France</td>\n",
              "      <td>Female</td>\n",
              "      <td>39</td>\n",
              "      <td>1</td>\n",
              "      <td>0.00</td>\n",
              "      <td>2</td>\n",
              "      <td>0</td>\n",
              "      <td>0</td>\n",
              "      <td>93826.63</td>\n",
              "      <td>0</td>\n",
              "      <td>0</td>\n",
              "      <td>5</td>\n",
              "      <td>GOLD</td>\n",
              "      <td>350</td>\n",
              "    </tr>\n",
              "    <tr>\n",
              "      <th>4</th>\n",
              "      <td>5</td>\n",
              "      <td>15737888</td>\n",
              "      <td>Mitchell</td>\n",
              "      <td>850</td>\n",
              "      <td>Spain</td>\n",
              "      <td>Female</td>\n",
              "      <td>43</td>\n",
              "      <td>2</td>\n",
              "      <td>125510.82</td>\n",
              "      <td>1</td>\n",
              "      <td>1</td>\n",
              "      <td>1</td>\n",
              "      <td>79084.10</td>\n",
              "      <td>0</td>\n",
              "      <td>0</td>\n",
              "      <td>5</td>\n",
              "      <td>GOLD</td>\n",
              "      <td>425</td>\n",
              "    </tr>\n",
              "  </tbody>\n",
              "</table>\n",
              "</div>\n",
              "      <button class=\"colab-df-convert\" onclick=\"convertToInteractive('df-fe4cbf19-46a9-4e36-a55e-c6cb6d531727')\"\n",
              "              title=\"Convert this dataframe to an interactive table.\"\n",
              "              style=\"display:none;\">\n",
              "        \n",
              "  <svg xmlns=\"http://www.w3.org/2000/svg\" height=\"24px\"viewBox=\"0 0 24 24\"\n",
              "       width=\"24px\">\n",
              "    <path d=\"M0 0h24v24H0V0z\" fill=\"none\"/>\n",
              "    <path d=\"M18.56 5.44l.94 2.06.94-2.06 2.06-.94-2.06-.94-.94-2.06-.94 2.06-2.06.94zm-11 1L8.5 8.5l.94-2.06 2.06-.94-2.06-.94L8.5 2.5l-.94 2.06-2.06.94zm10 10l.94 2.06.94-2.06 2.06-.94-2.06-.94-.94-2.06-.94 2.06-2.06.94z\"/><path d=\"M17.41 7.96l-1.37-1.37c-.4-.4-.92-.59-1.43-.59-.52 0-1.04.2-1.43.59L10.3 9.45l-7.72 7.72c-.78.78-.78 2.05 0 2.83L4 21.41c.39.39.9.59 1.41.59.51 0 1.02-.2 1.41-.59l7.78-7.78 2.81-2.81c.8-.78.8-2.07 0-2.86zM5.41 20L4 18.59l7.72-7.72 1.47 1.35L5.41 20z\"/>\n",
              "  </svg>\n",
              "      </button>\n",
              "      \n",
              "  <style>\n",
              "    .colab-df-container {\n",
              "      display:flex;\n",
              "      flex-wrap:wrap;\n",
              "      gap: 12px;\n",
              "    }\n",
              "\n",
              "    .colab-df-convert {\n",
              "      background-color: #E8F0FE;\n",
              "      border: none;\n",
              "      border-radius: 50%;\n",
              "      cursor: pointer;\n",
              "      display: none;\n",
              "      fill: #1967D2;\n",
              "      height: 32px;\n",
              "      padding: 0 0 0 0;\n",
              "      width: 32px;\n",
              "    }\n",
              "\n",
              "    .colab-df-convert:hover {\n",
              "      background-color: #E2EBFA;\n",
              "      box-shadow: 0px 1px 2px rgba(60, 64, 67, 0.3), 0px 1px 3px 1px rgba(60, 64, 67, 0.15);\n",
              "      fill: #174EA6;\n",
              "    }\n",
              "\n",
              "    [theme=dark] .colab-df-convert {\n",
              "      background-color: #3B4455;\n",
              "      fill: #D2E3FC;\n",
              "    }\n",
              "\n",
              "    [theme=dark] .colab-df-convert:hover {\n",
              "      background-color: #434B5C;\n",
              "      box-shadow: 0px 1px 3px 1px rgba(0, 0, 0, 0.15);\n",
              "      filter: drop-shadow(0px 1px 2px rgba(0, 0, 0, 0.3));\n",
              "      fill: #FFFFFF;\n",
              "    }\n",
              "  </style>\n",
              "\n",
              "      <script>\n",
              "        const buttonEl =\n",
              "          document.querySelector('#df-fe4cbf19-46a9-4e36-a55e-c6cb6d531727 button.colab-df-convert');\n",
              "        buttonEl.style.display =\n",
              "          google.colab.kernel.accessAllowed ? 'block' : 'none';\n",
              "\n",
              "        async function convertToInteractive(key) {\n",
              "          const element = document.querySelector('#df-fe4cbf19-46a9-4e36-a55e-c6cb6d531727');\n",
              "          const dataTable =\n",
              "            await google.colab.kernel.invokeFunction('convertToInteractive',\n",
              "                                                     [key], {});\n",
              "          if (!dataTable) return;\n",
              "\n",
              "          const docLinkHtml = 'Like what you see? Visit the ' +\n",
              "            '<a target=\"_blank\" href=https://colab.research.google.com/notebooks/data_table.ipynb>data table notebook</a>'\n",
              "            + ' to learn more about interactive tables.';\n",
              "          element.innerHTML = '';\n",
              "          dataTable['output_type'] = 'display_data';\n",
              "          await google.colab.output.renderOutput(dataTable, element);\n",
              "          const docLink = document.createElement('div');\n",
              "          docLink.innerHTML = docLinkHtml;\n",
              "          element.appendChild(docLink);\n",
              "        }\n",
              "      </script>\n",
              "    </div>\n",
              "  </div>\n",
              "  "
            ]
          },
          "metadata": {},
          "execution_count": 3
        }
      ]
    },
    {
      "cell_type": "code",
      "source": [
        "df.info()"
      ],
      "metadata": {
        "id": "Ay_vRrTdIU6k",
        "outputId": "0401ce34-b6e2-4627-987a-5b9979596cb6",
        "colab": {
          "base_uri": "https://localhost:8080/"
        }
      },
      "execution_count": 4,
      "outputs": [
        {
          "output_type": "stream",
          "name": "stdout",
          "text": [
            "<class 'pandas.core.frame.DataFrame'>\n",
            "RangeIndex: 10000 entries, 0 to 9999\n",
            "Data columns (total 18 columns):\n",
            " #   Column              Non-Null Count  Dtype  \n",
            "---  ------              --------------  -----  \n",
            " 0   RowNumber           10000 non-null  int64  \n",
            " 1   CustomerId          10000 non-null  int64  \n",
            " 2   Surname             10000 non-null  object \n",
            " 3   CreditScore         10000 non-null  int64  \n",
            " 4   Geography           10000 non-null  object \n",
            " 5   Gender              10000 non-null  object \n",
            " 6   Age                 10000 non-null  int64  \n",
            " 7   Tenure              10000 non-null  int64  \n",
            " 8   Balance             10000 non-null  float64\n",
            " 9   NumOfProducts       10000 non-null  int64  \n",
            " 10  HasCrCard           10000 non-null  int64  \n",
            " 11  IsActiveMember      10000 non-null  int64  \n",
            " 12  EstimatedSalary     10000 non-null  float64\n",
            " 13  Exited              10000 non-null  int64  \n",
            " 14  Complain            10000 non-null  int64  \n",
            " 15  Satisfaction Score  10000 non-null  int64  \n",
            " 16  Card Type           10000 non-null  object \n",
            " 17  Point Earned        10000 non-null  int64  \n",
            "dtypes: float64(2), int64(12), object(4)\n",
            "memory usage: 1.4+ MB\n"
          ]
        }
      ]
    },
    {
      "cell_type": "markdown",
      "source": [
        "O dataset utilizado é composto por 10.000 entradas de dados e 18 features, sendo 14 representadas por valores numéricos (2 por números de ponto flutuante e 12 por números inteiros) e 4 representadas por valores categóricos. Não existem valores faltantes no conjunto de dados."
      ],
      "metadata": {
        "id": "9FuIMkLxIota"
      }
    },
    {
      "cell_type": "code",
      "source": [
        "df.describe()"
      ],
      "metadata": {
        "id": "BigKoe0WJPWs",
        "outputId": "12fe90c6-ab5f-4137-a80c-bf12e5deea8a",
        "colab": {
          "base_uri": "https://localhost:8080/",
          "height": 382
        }
      },
      "execution_count": 5,
      "outputs": [
        {
          "output_type": "execute_result",
          "data": {
            "text/plain": [
              "         RowNumber    CustomerId   CreditScore           Age        Tenure  \\\n",
              "count  10000.00000  1.000000e+04  10000.000000  10000.000000  10000.000000   \n",
              "mean    5000.50000  1.569094e+07    650.528800     38.921800      5.012800   \n",
              "std     2886.89568  7.193619e+04     96.653299     10.487806      2.892174   \n",
              "min        1.00000  1.556570e+07    350.000000     18.000000      0.000000   \n",
              "25%     2500.75000  1.562853e+07    584.000000     32.000000      3.000000   \n",
              "50%     5000.50000  1.569074e+07    652.000000     37.000000      5.000000   \n",
              "75%     7500.25000  1.575323e+07    718.000000     44.000000      7.000000   \n",
              "max    10000.00000  1.581569e+07    850.000000     92.000000     10.000000   \n",
              "\n",
              "             Balance  NumOfProducts    HasCrCard  IsActiveMember  \\\n",
              "count   10000.000000   10000.000000  10000.00000    10000.000000   \n",
              "mean    76485.889288       1.530200      0.70550        0.515100   \n",
              "std     62397.405202       0.581654      0.45584        0.499797   \n",
              "min         0.000000       1.000000      0.00000        0.000000   \n",
              "25%         0.000000       1.000000      0.00000        0.000000   \n",
              "50%     97198.540000       1.000000      1.00000        1.000000   \n",
              "75%    127644.240000       2.000000      1.00000        1.000000   \n",
              "max    250898.090000       4.000000      1.00000        1.000000   \n",
              "\n",
              "       EstimatedSalary        Exited      Complain  Satisfaction Score  \\\n",
              "count     10000.000000  10000.000000  10000.000000        10000.000000   \n",
              "mean     100090.239881      0.203800      0.204400            3.013800   \n",
              "std       57510.492818      0.402842      0.403283            1.405919   \n",
              "min          11.580000      0.000000      0.000000            1.000000   \n",
              "25%       51002.110000      0.000000      0.000000            2.000000   \n",
              "50%      100193.915000      0.000000      0.000000            3.000000   \n",
              "75%      149388.247500      0.000000      0.000000            4.000000   \n",
              "max      199992.480000      1.000000      1.000000            5.000000   \n",
              "\n",
              "       Point Earned  \n",
              "count  10000.000000  \n",
              "mean     606.515100  \n",
              "std      225.924839  \n",
              "min      119.000000  \n",
              "25%      410.000000  \n",
              "50%      605.000000  \n",
              "75%      801.000000  \n",
              "max     1000.000000  "
            ],
            "text/html": [
              "\n",
              "  <div id=\"df-b01e561f-8486-401e-b230-ea49cf853533\">\n",
              "    <div class=\"colab-df-container\">\n",
              "      <div>\n",
              "<style scoped>\n",
              "    .dataframe tbody tr th:only-of-type {\n",
              "        vertical-align: middle;\n",
              "    }\n",
              "\n",
              "    .dataframe tbody tr th {\n",
              "        vertical-align: top;\n",
              "    }\n",
              "\n",
              "    .dataframe thead th {\n",
              "        text-align: right;\n",
              "    }\n",
              "</style>\n",
              "<table border=\"1\" class=\"dataframe\">\n",
              "  <thead>\n",
              "    <tr style=\"text-align: right;\">\n",
              "      <th></th>\n",
              "      <th>RowNumber</th>\n",
              "      <th>CustomerId</th>\n",
              "      <th>CreditScore</th>\n",
              "      <th>Age</th>\n",
              "      <th>Tenure</th>\n",
              "      <th>Balance</th>\n",
              "      <th>NumOfProducts</th>\n",
              "      <th>HasCrCard</th>\n",
              "      <th>IsActiveMember</th>\n",
              "      <th>EstimatedSalary</th>\n",
              "      <th>Exited</th>\n",
              "      <th>Complain</th>\n",
              "      <th>Satisfaction Score</th>\n",
              "      <th>Point Earned</th>\n",
              "    </tr>\n",
              "  </thead>\n",
              "  <tbody>\n",
              "    <tr>\n",
              "      <th>count</th>\n",
              "      <td>10000.00000</td>\n",
              "      <td>1.000000e+04</td>\n",
              "      <td>10000.000000</td>\n",
              "      <td>10000.000000</td>\n",
              "      <td>10000.000000</td>\n",
              "      <td>10000.000000</td>\n",
              "      <td>10000.000000</td>\n",
              "      <td>10000.00000</td>\n",
              "      <td>10000.000000</td>\n",
              "      <td>10000.000000</td>\n",
              "      <td>10000.000000</td>\n",
              "      <td>10000.000000</td>\n",
              "      <td>10000.000000</td>\n",
              "      <td>10000.000000</td>\n",
              "    </tr>\n",
              "    <tr>\n",
              "      <th>mean</th>\n",
              "      <td>5000.50000</td>\n",
              "      <td>1.569094e+07</td>\n",
              "      <td>650.528800</td>\n",
              "      <td>38.921800</td>\n",
              "      <td>5.012800</td>\n",
              "      <td>76485.889288</td>\n",
              "      <td>1.530200</td>\n",
              "      <td>0.70550</td>\n",
              "      <td>0.515100</td>\n",
              "      <td>100090.239881</td>\n",
              "      <td>0.203800</td>\n",
              "      <td>0.204400</td>\n",
              "      <td>3.013800</td>\n",
              "      <td>606.515100</td>\n",
              "    </tr>\n",
              "    <tr>\n",
              "      <th>std</th>\n",
              "      <td>2886.89568</td>\n",
              "      <td>7.193619e+04</td>\n",
              "      <td>96.653299</td>\n",
              "      <td>10.487806</td>\n",
              "      <td>2.892174</td>\n",
              "      <td>62397.405202</td>\n",
              "      <td>0.581654</td>\n",
              "      <td>0.45584</td>\n",
              "      <td>0.499797</td>\n",
              "      <td>57510.492818</td>\n",
              "      <td>0.402842</td>\n",
              "      <td>0.403283</td>\n",
              "      <td>1.405919</td>\n",
              "      <td>225.924839</td>\n",
              "    </tr>\n",
              "    <tr>\n",
              "      <th>min</th>\n",
              "      <td>1.00000</td>\n",
              "      <td>1.556570e+07</td>\n",
              "      <td>350.000000</td>\n",
              "      <td>18.000000</td>\n",
              "      <td>0.000000</td>\n",
              "      <td>0.000000</td>\n",
              "      <td>1.000000</td>\n",
              "      <td>0.00000</td>\n",
              "      <td>0.000000</td>\n",
              "      <td>11.580000</td>\n",
              "      <td>0.000000</td>\n",
              "      <td>0.000000</td>\n",
              "      <td>1.000000</td>\n",
              "      <td>119.000000</td>\n",
              "    </tr>\n",
              "    <tr>\n",
              "      <th>25%</th>\n",
              "      <td>2500.75000</td>\n",
              "      <td>1.562853e+07</td>\n",
              "      <td>584.000000</td>\n",
              "      <td>32.000000</td>\n",
              "      <td>3.000000</td>\n",
              "      <td>0.000000</td>\n",
              "      <td>1.000000</td>\n",
              "      <td>0.00000</td>\n",
              "      <td>0.000000</td>\n",
              "      <td>51002.110000</td>\n",
              "      <td>0.000000</td>\n",
              "      <td>0.000000</td>\n",
              "      <td>2.000000</td>\n",
              "      <td>410.000000</td>\n",
              "    </tr>\n",
              "    <tr>\n",
              "      <th>50%</th>\n",
              "      <td>5000.50000</td>\n",
              "      <td>1.569074e+07</td>\n",
              "      <td>652.000000</td>\n",
              "      <td>37.000000</td>\n",
              "      <td>5.000000</td>\n",
              "      <td>97198.540000</td>\n",
              "      <td>1.000000</td>\n",
              "      <td>1.00000</td>\n",
              "      <td>1.000000</td>\n",
              "      <td>100193.915000</td>\n",
              "      <td>0.000000</td>\n",
              "      <td>0.000000</td>\n",
              "      <td>3.000000</td>\n",
              "      <td>605.000000</td>\n",
              "    </tr>\n",
              "    <tr>\n",
              "      <th>75%</th>\n",
              "      <td>7500.25000</td>\n",
              "      <td>1.575323e+07</td>\n",
              "      <td>718.000000</td>\n",
              "      <td>44.000000</td>\n",
              "      <td>7.000000</td>\n",
              "      <td>127644.240000</td>\n",
              "      <td>2.000000</td>\n",
              "      <td>1.00000</td>\n",
              "      <td>1.000000</td>\n",
              "      <td>149388.247500</td>\n",
              "      <td>0.000000</td>\n",
              "      <td>0.000000</td>\n",
              "      <td>4.000000</td>\n",
              "      <td>801.000000</td>\n",
              "    </tr>\n",
              "    <tr>\n",
              "      <th>max</th>\n",
              "      <td>10000.00000</td>\n",
              "      <td>1.581569e+07</td>\n",
              "      <td>850.000000</td>\n",
              "      <td>92.000000</td>\n",
              "      <td>10.000000</td>\n",
              "      <td>250898.090000</td>\n",
              "      <td>4.000000</td>\n",
              "      <td>1.00000</td>\n",
              "      <td>1.000000</td>\n",
              "      <td>199992.480000</td>\n",
              "      <td>1.000000</td>\n",
              "      <td>1.000000</td>\n",
              "      <td>5.000000</td>\n",
              "      <td>1000.000000</td>\n",
              "    </tr>\n",
              "  </tbody>\n",
              "</table>\n",
              "</div>\n",
              "      <button class=\"colab-df-convert\" onclick=\"convertToInteractive('df-b01e561f-8486-401e-b230-ea49cf853533')\"\n",
              "              title=\"Convert this dataframe to an interactive table.\"\n",
              "              style=\"display:none;\">\n",
              "        \n",
              "  <svg xmlns=\"http://www.w3.org/2000/svg\" height=\"24px\"viewBox=\"0 0 24 24\"\n",
              "       width=\"24px\">\n",
              "    <path d=\"M0 0h24v24H0V0z\" fill=\"none\"/>\n",
              "    <path d=\"M18.56 5.44l.94 2.06.94-2.06 2.06-.94-2.06-.94-.94-2.06-.94 2.06-2.06.94zm-11 1L8.5 8.5l.94-2.06 2.06-.94-2.06-.94L8.5 2.5l-.94 2.06-2.06.94zm10 10l.94 2.06.94-2.06 2.06-.94-2.06-.94-.94-2.06-.94 2.06-2.06.94z\"/><path d=\"M17.41 7.96l-1.37-1.37c-.4-.4-.92-.59-1.43-.59-.52 0-1.04.2-1.43.59L10.3 9.45l-7.72 7.72c-.78.78-.78 2.05 0 2.83L4 21.41c.39.39.9.59 1.41.59.51 0 1.02-.2 1.41-.59l7.78-7.78 2.81-2.81c.8-.78.8-2.07 0-2.86zM5.41 20L4 18.59l7.72-7.72 1.47 1.35L5.41 20z\"/>\n",
              "  </svg>\n",
              "      </button>\n",
              "      \n",
              "  <style>\n",
              "    .colab-df-container {\n",
              "      display:flex;\n",
              "      flex-wrap:wrap;\n",
              "      gap: 12px;\n",
              "    }\n",
              "\n",
              "    .colab-df-convert {\n",
              "      background-color: #E8F0FE;\n",
              "      border: none;\n",
              "      border-radius: 50%;\n",
              "      cursor: pointer;\n",
              "      display: none;\n",
              "      fill: #1967D2;\n",
              "      height: 32px;\n",
              "      padding: 0 0 0 0;\n",
              "      width: 32px;\n",
              "    }\n",
              "\n",
              "    .colab-df-convert:hover {\n",
              "      background-color: #E2EBFA;\n",
              "      box-shadow: 0px 1px 2px rgba(60, 64, 67, 0.3), 0px 1px 3px 1px rgba(60, 64, 67, 0.15);\n",
              "      fill: #174EA6;\n",
              "    }\n",
              "\n",
              "    [theme=dark] .colab-df-convert {\n",
              "      background-color: #3B4455;\n",
              "      fill: #D2E3FC;\n",
              "    }\n",
              "\n",
              "    [theme=dark] .colab-df-convert:hover {\n",
              "      background-color: #434B5C;\n",
              "      box-shadow: 0px 1px 3px 1px rgba(0, 0, 0, 0.15);\n",
              "      filter: drop-shadow(0px 1px 2px rgba(0, 0, 0, 0.3));\n",
              "      fill: #FFFFFF;\n",
              "    }\n",
              "  </style>\n",
              "\n",
              "      <script>\n",
              "        const buttonEl =\n",
              "          document.querySelector('#df-b01e561f-8486-401e-b230-ea49cf853533 button.colab-df-convert');\n",
              "        buttonEl.style.display =\n",
              "          google.colab.kernel.accessAllowed ? 'block' : 'none';\n",
              "\n",
              "        async function convertToInteractive(key) {\n",
              "          const element = document.querySelector('#df-b01e561f-8486-401e-b230-ea49cf853533');\n",
              "          const dataTable =\n",
              "            await google.colab.kernel.invokeFunction('convertToInteractive',\n",
              "                                                     [key], {});\n",
              "          if (!dataTable) return;\n",
              "\n",
              "          const docLinkHtml = 'Like what you see? Visit the ' +\n",
              "            '<a target=\"_blank\" href=https://colab.research.google.com/notebooks/data_table.ipynb>data table notebook</a>'\n",
              "            + ' to learn more about interactive tables.';\n",
              "          element.innerHTML = '';\n",
              "          dataTable['output_type'] = 'display_data';\n",
              "          await google.colab.output.renderOutput(dataTable, element);\n",
              "          const docLink = document.createElement('div');\n",
              "          docLink.innerHTML = docLinkHtml;\n",
              "          element.appendChild(docLink);\n",
              "        }\n",
              "      </script>\n",
              "    </div>\n",
              "  </div>\n",
              "  "
            ]
          },
          "metadata": {},
          "execution_count": 5
        }
      ]
    },
    {
      "cell_type": "code",
      "source": [
        "df.describe(include=\"object\")"
      ],
      "metadata": {
        "id": "ziYkCMyeJaPv",
        "outputId": "a22558b1-ccdc-4c53-8a08-e242e297592a",
        "colab": {
          "base_uri": "https://localhost:8080/",
          "height": 175
        }
      },
      "execution_count": 6,
      "outputs": [
        {
          "output_type": "execute_result",
          "data": {
            "text/plain": [
              "       Surname Geography Gender Card Type\n",
              "count    10000     10000  10000     10000\n",
              "unique    2932         3      2         4\n",
              "top      Smith    France   Male   DIAMOND\n",
              "freq        32      5014   5457      2507"
            ],
            "text/html": [
              "\n",
              "  <div id=\"df-ba7b464a-066f-4658-916a-e576f9a104ed\">\n",
              "    <div class=\"colab-df-container\">\n",
              "      <div>\n",
              "<style scoped>\n",
              "    .dataframe tbody tr th:only-of-type {\n",
              "        vertical-align: middle;\n",
              "    }\n",
              "\n",
              "    .dataframe tbody tr th {\n",
              "        vertical-align: top;\n",
              "    }\n",
              "\n",
              "    .dataframe thead th {\n",
              "        text-align: right;\n",
              "    }\n",
              "</style>\n",
              "<table border=\"1\" class=\"dataframe\">\n",
              "  <thead>\n",
              "    <tr style=\"text-align: right;\">\n",
              "      <th></th>\n",
              "      <th>Surname</th>\n",
              "      <th>Geography</th>\n",
              "      <th>Gender</th>\n",
              "      <th>Card Type</th>\n",
              "    </tr>\n",
              "  </thead>\n",
              "  <tbody>\n",
              "    <tr>\n",
              "      <th>count</th>\n",
              "      <td>10000</td>\n",
              "      <td>10000</td>\n",
              "      <td>10000</td>\n",
              "      <td>10000</td>\n",
              "    </tr>\n",
              "    <tr>\n",
              "      <th>unique</th>\n",
              "      <td>2932</td>\n",
              "      <td>3</td>\n",
              "      <td>2</td>\n",
              "      <td>4</td>\n",
              "    </tr>\n",
              "    <tr>\n",
              "      <th>top</th>\n",
              "      <td>Smith</td>\n",
              "      <td>France</td>\n",
              "      <td>Male</td>\n",
              "      <td>DIAMOND</td>\n",
              "    </tr>\n",
              "    <tr>\n",
              "      <th>freq</th>\n",
              "      <td>32</td>\n",
              "      <td>5014</td>\n",
              "      <td>5457</td>\n",
              "      <td>2507</td>\n",
              "    </tr>\n",
              "  </tbody>\n",
              "</table>\n",
              "</div>\n",
              "      <button class=\"colab-df-convert\" onclick=\"convertToInteractive('df-ba7b464a-066f-4658-916a-e576f9a104ed')\"\n",
              "              title=\"Convert this dataframe to an interactive table.\"\n",
              "              style=\"display:none;\">\n",
              "        \n",
              "  <svg xmlns=\"http://www.w3.org/2000/svg\" height=\"24px\"viewBox=\"0 0 24 24\"\n",
              "       width=\"24px\">\n",
              "    <path d=\"M0 0h24v24H0V0z\" fill=\"none\"/>\n",
              "    <path d=\"M18.56 5.44l.94 2.06.94-2.06 2.06-.94-2.06-.94-.94-2.06-.94 2.06-2.06.94zm-11 1L8.5 8.5l.94-2.06 2.06-.94-2.06-.94L8.5 2.5l-.94 2.06-2.06.94zm10 10l.94 2.06.94-2.06 2.06-.94-2.06-.94-.94-2.06-.94 2.06-2.06.94z\"/><path d=\"M17.41 7.96l-1.37-1.37c-.4-.4-.92-.59-1.43-.59-.52 0-1.04.2-1.43.59L10.3 9.45l-7.72 7.72c-.78.78-.78 2.05 0 2.83L4 21.41c.39.39.9.59 1.41.59.51 0 1.02-.2 1.41-.59l7.78-7.78 2.81-2.81c.8-.78.8-2.07 0-2.86zM5.41 20L4 18.59l7.72-7.72 1.47 1.35L5.41 20z\"/>\n",
              "  </svg>\n",
              "      </button>\n",
              "      \n",
              "  <style>\n",
              "    .colab-df-container {\n",
              "      display:flex;\n",
              "      flex-wrap:wrap;\n",
              "      gap: 12px;\n",
              "    }\n",
              "\n",
              "    .colab-df-convert {\n",
              "      background-color: #E8F0FE;\n",
              "      border: none;\n",
              "      border-radius: 50%;\n",
              "      cursor: pointer;\n",
              "      display: none;\n",
              "      fill: #1967D2;\n",
              "      height: 32px;\n",
              "      padding: 0 0 0 0;\n",
              "      width: 32px;\n",
              "    }\n",
              "\n",
              "    .colab-df-convert:hover {\n",
              "      background-color: #E2EBFA;\n",
              "      box-shadow: 0px 1px 2px rgba(60, 64, 67, 0.3), 0px 1px 3px 1px rgba(60, 64, 67, 0.15);\n",
              "      fill: #174EA6;\n",
              "    }\n",
              "\n",
              "    [theme=dark] .colab-df-convert {\n",
              "      background-color: #3B4455;\n",
              "      fill: #D2E3FC;\n",
              "    }\n",
              "\n",
              "    [theme=dark] .colab-df-convert:hover {\n",
              "      background-color: #434B5C;\n",
              "      box-shadow: 0px 1px 3px 1px rgba(0, 0, 0, 0.15);\n",
              "      filter: drop-shadow(0px 1px 2px rgba(0, 0, 0, 0.3));\n",
              "      fill: #FFFFFF;\n",
              "    }\n",
              "  </style>\n",
              "\n",
              "      <script>\n",
              "        const buttonEl =\n",
              "          document.querySelector('#df-ba7b464a-066f-4658-916a-e576f9a104ed button.colab-df-convert');\n",
              "        buttonEl.style.display =\n",
              "          google.colab.kernel.accessAllowed ? 'block' : 'none';\n",
              "\n",
              "        async function convertToInteractive(key) {\n",
              "          const element = document.querySelector('#df-ba7b464a-066f-4658-916a-e576f9a104ed');\n",
              "          const dataTable =\n",
              "            await google.colab.kernel.invokeFunction('convertToInteractive',\n",
              "                                                     [key], {});\n",
              "          if (!dataTable) return;\n",
              "\n",
              "          const docLinkHtml = 'Like what you see? Visit the ' +\n",
              "            '<a target=\"_blank\" href=https://colab.research.google.com/notebooks/data_table.ipynb>data table notebook</a>'\n",
              "            + ' to learn more about interactive tables.';\n",
              "          element.innerHTML = '';\n",
              "          dataTable['output_type'] = 'display_data';\n",
              "          await google.colab.output.renderOutput(dataTable, element);\n",
              "          const docLink = document.createElement('div');\n",
              "          docLink.innerHTML = docLinkHtml;\n",
              "          element.appendChild(docLink);\n",
              "        }\n",
              "      </script>\n",
              "    </div>\n",
              "  </div>\n",
              "  "
            ]
          },
          "metadata": {},
          "execution_count": 6
        }
      ]
    },
    {
      "cell_type": "code",
      "source": [
        "def get_unique_values(df, col):\n",
        "  print(f\"Valores únicos da feature {col}:\")\n",
        "  print(df[col].unique())\n",
        "  print(\"\\n\")"
      ],
      "metadata": {
        "id": "ROveerU3KAFr"
      },
      "execution_count": 7,
      "outputs": []
    },
    {
      "cell_type": "code",
      "source": [
        "get_unique_values(df, \"Geography\")\n",
        "get_unique_values(df, \"Gender\")\n",
        "get_unique_values(df, \"Card Type\")"
      ],
      "metadata": {
        "id": "Vrcu7kNYKLZG",
        "outputId": "61bed695-b4d2-4be1-8354-d0388c92cb9a",
        "colab": {
          "base_uri": "https://localhost:8080/"
        }
      },
      "execution_count": 8,
      "outputs": [
        {
          "output_type": "stream",
          "name": "stdout",
          "text": [
            "Valores únicos da feature Geography:\n",
            "['France' 'Spain' 'Germany']\n",
            "\n",
            "\n",
            "Valores únicos da feature Gender:\n",
            "['Female' 'Male']\n",
            "\n",
            "\n",
            "Valores únicos da feature Card Type:\n",
            "['DIAMOND' 'GOLD' 'SILVER' 'PLATINUM']\n",
            "\n",
            "\n"
          ]
        }
      ]
    },
    {
      "cell_type": "markdown",
      "source": [
        "A descrição de cada uma das features pode ser vista abaixo:\n",
        "\n",
        "- `RowNumber`: número da linha ou registro, não afetando a permanência ou não do cliente;\n",
        "\n",
        "- `CustomerId`: Id do cliente, sendo esse um número aleatório que também não afeta a permanência ou não do cliente;\n",
        "\n",
        "- `Surname`: sobrenome do cliente;\n",
        "\n",
        "- `CreditScore`: score de crédito do cliente;\n",
        "\n",
        "- `Geography`: localização do cliente, sendo essa uma entre França, Espanha ou Alemanha;\n",
        "\n",
        "- `Gender`: gênero do cliente;\n",
        "\n",
        "- `Age`: idade do cliente;\n",
        "\n",
        "- `Tenure`: número de anos em que o cliente encontra-se vinculado ao banco;\n",
        "\n",
        "- `Balance`: saldo da conta do cliente (em euros, provavelmente);\n",
        "\n",
        "- `NumOfProducts`: número de produtos que o cliente aderiu através do banco;\n",
        "\n",
        "- `HasCrCard`: se o cliente possui (1) ou não (0) cartão de crédito;\n",
        "\n",
        "- `IsActiveMember`: se o cliente é um membro ativo (1) ou não (0). Os critérios para essa feature não foram especificados pelo fornecedor do conjunto de dados;\n",
        "\n",
        "- `EstimatedSalary`: salário estimado do cliente (em euros, provavelmente);\n",
        "\n",
        "- `Exited`: variável alvo, que indica se o cliente deixou o banco (1) ou não (0) no mês avaliado;\n",
        "\n",
        "- `Complain`: se o cliente realizou reclamações (1) ou não (0);\n",
        "\n",
        "- `Satisfaction Score`: nota de satisfação fornecida pelo cliente para a resolução de sua reclamação;\n",
        "\n",
        "- `Card Type`: tipo de cartão que o cliente possui, podendo ser um entre Diamond, Gold, Silver e Platinum;\n",
        "\n",
        "- `Points Earned`: pontos ganhos pelo cliente pelo uso do cartão de crédito.\n",
        "\n",
        "O atributo `Exited` será utilizado como a variável alvo do problema de Machine Learning, sendo essa responsável por indicar se o cliente se tornou um churn (1) ou não (0) no mês avaliado. Portanto, o modelo desenvolvido deverá responder um problema de classificação binária."
      ],
      "metadata": {
        "id": "IK_i2VSaKiXX"
      }
    },
    {
      "cell_type": "markdown",
      "source": [
        "## Preparação de Dados\n",
        "\n",
        "Na etapa de preparação dos dados, os dados brutos serão transformados em um formato mais apropriado para a modelagem. Para isso, deve-se verificar a existência ou não de dados faltantes ou discrepantes (*outliers*), realizar as transformações adequadas aos dados e selecionar os atributos mais relevantes ao problema.\n",
        "\n",
        "De antemão, sabe-se que os atributos `RowNumber`, `CustomerId` e `Surname` não carregam consigo informação discriminante para o problema, e portanto podem ser removidas do conjunto de dados utilizado.\n",
        "\n",
        "Iniciaremos com a divisão do conjunto de dados entre treinamento e teste:"
      ],
      "metadata": {
        "id": "RJa1oX7OORdT"
      }
    },
    {
      "cell_type": "code",
      "source": [
        "test_size = 0.2 # tamanho do conjunto de teste\n",
        "\n",
        "X = df.drop([\"RowNumber\", \"CustomerId\", \"Surname\", \"Exited\"], axis=1)\n",
        "y = df[\"Exited\"].to_numpy()"
      ],
      "metadata": {
        "id": "bmaByQ3GsurY"
      },
      "execution_count": 9,
      "outputs": []
    },
    {
      "cell_type": "markdown",
      "source": [
        "Um ponto importante nessa etapa é a verificação do desbalanceamento do conjunto de dados utilizado, o que é indicado pela distribuição das classes da variável alvo."
      ],
      "metadata": {
        "id": "uKjZjopzumA_"
      }
    },
    {
      "cell_type": "code",
      "source": [
        "def plot_proportions(df, var):\n",
        "  plt.figure(figsize=(4, 3))\n",
        "  ax = sns.barplot(x=df[var].value_counts().index,\n",
        "                  y=df[var].value_counts(normalize=True).values)\n",
        "  plt.title(f\"Atributo {var}\")\n",
        "  for i, v in enumerate(df[var].value_counts(normalize=True).values):\n",
        "      ax.text(i, v+.01, f\"{v:.2f}\", horizontalalignment='center')"
      ],
      "metadata": {
        "id": "PFcb21aMvlpe"
      },
      "execution_count": 10,
      "outputs": []
    },
    {
      "cell_type": "code",
      "source": [
        "plot_proportions(df, \"Exited\")"
      ],
      "metadata": {
        "id": "zdVYieLYw6tf",
        "outputId": "44592e74-10c5-4942-f11b-5a919ad013dd",
        "colab": {
          "base_uri": "https://localhost:8080/",
          "height": 314
        }
      },
      "execution_count": 11,
      "outputs": [
        {
          "output_type": "display_data",
          "data": {
            "text/plain": [
              "<Figure size 400x300 with 1 Axes>"
            ],
            "image/png": "[encoded data removed]"
          },
          "metadata": {}
        }
      ]
    },
    {
      "cell_type": "markdown",
      "source": [
        "O quantitativo de 20% para a classe minoritária indica um desbalanceamento leve, onde técnicas de amostragem podem ou não ser aplicadas. Em um primeiro momento, será considerado que os modelos utilizados são capazes de lidar com o desequilíbrio de proporções do conjunto de dados original."
      ],
      "metadata": {
        "id": "qpHK57k2xdGQ"
      }
    },
    {
      "cell_type": "code",
      "source": [
        "seed = 42\n",
        "\n",
        "X_train, X_test, y_train, y_test = train_test_split(X, y, test_size=test_size,\n",
        "                                                    shuffle=True, random_state=seed,\n",
        "                                                    stratify=y)"
      ],
      "metadata": {
        "id": "h1vret9vyESG"
      },
      "execution_count": 12,
      "outputs": []
    },
    {
      "cell_type": "markdown",
      "source": [
        "Para a divisão dos dados em treinamento e teste, foi aplicada a técnica *holdout* com estratificação baseada na variável alvo, o que garante que as proporções de registros com churn ou não sejam aproximadamente iguais nas duas bases.\n",
        "\n",
        "Outra análise importante é entender quais variáveis númericas representam, na verdade, valores categóricos ou binários. Para isso, pode-se verificar o número de valores únicos para cada atributo:"
      ],
      "metadata": {
        "id": "LuSbQjVpsXLX"
      }
    },
    {
      "cell_type": "code",
      "source": [
        "X_train.nunique()"
      ],
      "metadata": {
        "id": "vUibyXV8YlE8",
        "outputId": "42553799-a4b1-4267-a1d9-317411c38cf9",
        "colab": {
          "base_uri": "https://localhost:8080/"
        }
      },
      "execution_count": 13,
      "outputs": [
        {
          "output_type": "execute_result",
          "data": {
            "text/plain": [
              "CreditScore            457\n",
              "Geography                3\n",
              "Gender                   2\n",
              "Age                     68\n",
              "Tenure                  11\n",
              "Balance               5113\n",
              "NumOfProducts            4\n",
              "HasCrCard                2\n",
              "IsActiveMember           2\n",
              "EstimatedSalary       7999\n",
              "Complain                 2\n",
              "Satisfaction Score       5\n",
              "Card Type                4\n",
              "Point Earned           784\n",
              "dtype: int64"
            ]
          },
          "metadata": {},
          "execution_count": 13
        }
      ]
    },
    {
      "cell_type": "markdown",
      "source": [
        "Sendo assim, podemos separar os atributos da base de treinamento entre numéricos, categóricos e binários:"
      ],
      "metadata": {
        "id": "A2sbqisIZE-J"
      }
    },
    {
      "cell_type": "code",
      "source": [
        "# Atributos categóricos\n",
        "cat_vars = X_train.select_dtypes(include=[\"object\"]).columns.tolist()\n",
        "print(f\"Atributos categóricos: {', '.join(cat_vars)}\")\n",
        "\n",
        "# Atributos binários\n",
        "bin_vars = [\"HasCrCard\", \"IsActiveMember\", \"Complain\"]\n",
        "print(f\"Atributos binários: {', '.join(bin_vars)}\")\n",
        "\n",
        "# Atributos numéricos\n",
        "num_vars = X_train.select_dtypes(include=[\"int64\", \"float64\"]).columns.tolist()\n",
        "num_vars = [x for x in num_vars if x not in bin_vars]\n",
        "print(f\"Atributos numéricos: {', '.join(num_vars)}\")"
      ],
      "metadata": {
        "id": "laI4AVVqZOxf",
        "outputId": "1983a671-b234-43b9-8404-32c253b86d74",
        "colab": {
          "base_uri": "https://localhost:8080/"
        }
      },
      "execution_count": 14,
      "outputs": [
        {
          "output_type": "stream",
          "name": "stdout",
          "text": [
            "Atributos categóricos: Geography, Gender, Card Type\n",
            "Atributos binários: HasCrCard, IsActiveMember, Complain\n",
            "Atributos numéricos: CreditScore, Age, Tenure, Balance, NumOfProducts, EstimatedSalary, Satisfaction Score, Point Earned\n"
          ]
        }
      ]
    },
    {
      "cell_type": "markdown",
      "source": [
        "### Tratamento de valores faltantes e *outliers*\n",
        "\n",
        "Outro aspecto imporante, mas que não é o foco do presente trabalho, diz respeito ao tratamento de valores faltantes e discrepantes (*outliers*). Conforme visto anteriormente, não existem valores faltantes no conjunto de dados avaliado.\n",
        "\n",
        "Podemos verificar a presença ou não de *outliers* analisando a distribuição dos dados, plotando seus histogramas e boxplots.\n",
        "\n",
        "O boxplot em particular utiliza o método de Tukey para a identificação de *outliers*, sendo esses exibidos por asteriscos (*). Esse método é baseado no intervalo interquartil (IQR), definido pela distância entre o primeiro quartil (onde estão localizados os 25% menores valores) e o terceiro quartil (onde estão localizados os 25% maiores valores).\n",
        "\n",
        "Esse método considera que qualquer valor 1,5 IQR menor que o primeiro quartil ou 1,5 IQR maior que o terceiro quartil é um valor discrepante. Podemos analisar isso nos gráficos abaixo:"
      ],
      "metadata": {
        "id": "-G3Ml2Z5bAmu"
      }
    },
    {
      "cell_type": "code",
      "source": [
        "def plot_distributions(df, vars):\n",
        "  if isinstance(vars, str):\n",
        "    vars = [vars]\n",
        "  for var in vars:\n",
        "    fig, axes = plt.subplots(2, 1, figsize=(6, 4), gridspec_kw={'height_ratios': [4, 1]})\n",
        "    sns.histplot(data=df, x=var, kde=True, ax=axes[0])\n",
        "    sns.boxplot(data=df, x=var, ax=axes[1])\n",
        "    plt.suptitle(f\"Atributo {var}\")\n",
        "    plt.tight_layout()\n",
        "    plt.subplots_adjust(top=0.9)"
      ],
      "metadata": {
        "id": "6g4zIhm6v9iF"
      },
      "execution_count": 15,
      "outputs": []
    },
    {
      "cell_type": "code",
      "source": [
        "plot_distributions(df, num_vars)"
      ],
      "metadata": {
        "id": "7J2ZM-YowTCk",
        "outputId": "6dbfe11a-e887-4899-8141-d8ed79a81fd0",
        "colab": {
          "base_uri": "https://localhost:8080/",
          "height": 1000
        }
      },
      "execution_count": 16,
      "outputs": [
        {
          "output_type": "display_data",
          "data": {
            "text/plain": [
              "<Figure size 600x400 with 2 Axes>"
            ],
            "image/png": "[encoded data removed]"
          },
          "metadata": {}
        },
        {
          "output_type": "display_data",
          "data": {
            "text/plain": [
              "<Figure size 600x400 with 2 Axes>"
            ],
            "image/png": "[encoded data removed]"
          },
          "metadata": {}
        },
        {
          "output_type": "display_data",
          "data": {
            "text/plain": [
              "<Figure size 600x400 with 2 Axes>"
            ],
            "image/png": "[encoded data removed]"
          },
          "metadata": {}
        },
        {
          "output_type": "display_data",
          "data": {
            "text/plain": [
              "<Figure size 600x400 with 2 Axes>"
            ],
            "image/png": "[encoded data removed]"
          },
          "metadata": {}
        },
        {
          "output_type": "display_data",
          "data": {
            "text/plain": [
              "<Figure size 600x400 with 2 Axes>"
            ],
            "image/png": "[encoded data removed]"
          },
          "metadata": {}
        },
        {
          "output_type": "display_data",
          "data": {
            "text/plain": [
              "<Figure size 600x400 with 2 Axes>"
            ],
            "image/png": "[encoded data removed]"
          },
          "metadata": {}
        },
        {
          "output_type": "display_data",
          "data": {
            "text/plain": [
              "<Figure size 600x400 with 2 Axes>"
            ],
            "image/png": "[encoded data removed]"
          },
          "metadata": {}
        },
        {
          "output_type": "display_data",
          "data": {
            "text/plain": [
              "<Figure size 600x400 with 2 Axes>"
            ],
            "image/png": "[encoded data removed]"
          },
          "metadata": {}
        }
      ]
    },
    {
      "cell_type": "markdown",
      "source": [
        "Apesar da presença de valores discrepantes, segundo o método de Tukey, para os atributos `NumOfProducts`, `Age` e `CreditScore`, é possível observar que esses valores são factíveis, e portanto devem pertencer à distribuição natural dos dados."
      ],
      "metadata": {
        "id": "GyzKrzDwdYFV"
      }
    },
    {
      "cell_type": "markdown",
      "source": [
        "### Feature Selection\n",
        "\n",
        "Agora, é necessário verificar se mais algum atributo se mostra pouco relevante para o problema, dado que esses podem afetar negativamente o resultado do modelo."
      ],
      "metadata": {
        "id": "2bbZgbTMm_6q"
      }
    },
    {
      "cell_type": "markdown",
      "source": [
        "#### SelectKBest\n",
        "\n",
        "Uma das formas de se realizar Feature Selection é através de seleção univariada, onde testes estatísticos são aplicados para selecionar os atributos que tenham relação mais forte com a variável de saída.\n",
        "\n",
        "A biblioteca scikit-learn disponibiliza a classe **SelectKBest**, que seleciona os K atributos com maior pontuação no teste realizado. Para esse problema, será utilizado o teste ANOVA para escolher os 5 atributos **numéricos** mais importantes para o problema. É importante ressaltar que o teste ANOVA só deverá ser aplicado a atributos preditores numéricos em conjunto com uma variável alvo categórica, como é o caso."
      ],
      "metadata": {
        "id": "OGANnd51nx6N"
      }
    },
    {
      "cell_type": "code",
      "source": [
        "# Seleciona os 5 melhores atributos numéricos\n",
        "kbest = SelectKBest(score_func=f_classif, k=5)\n",
        "kbest.fit(X_train[num_vars], y_train)\n",
        "kbest_vars = list(kbest.get_feature_names_out())\n",
        "\n",
        "print(f\"Atributos selecionados pela classe SelectKBest: {', '.join(kbest_vars)}\")"
      ],
      "metadata": {
        "id": "g_ih5PSnlgxB",
        "outputId": "e14cd7d1-612d-4542-f9b6-2aa7cb42799f",
        "colab": {
          "base_uri": "https://localhost:8080/"
        }
      },
      "execution_count": 17,
      "outputs": [
        {
          "output_type": "stream",
          "name": "stdout",
          "text": [
            "Atributos selecionados pela classe SelectKBest: CreditScore, Age, Balance, NumOfProducts, EstimatedSalary\n"
          ]
        }
      ]
    },
    {
      "cell_type": "markdown",
      "source": [
        "#### Feature Importance\n",
        "\n",
        "Outra forma de selecionar os atributos mais relevantes para o problema consiste em utilizar um algoritmo de Machine Learning capaz de estimar a importância dos atributos, como é o caso da RandomForest e ExtraTrees.\n",
        "\n",
        "A implementação do ExtraTrees do scikit-learn serã utilizada para se obter os atributos mais relevantes para o problema. Uma etapa prévia necessária para a execução do ExtraTrees é a transformação dos dados categóricos, para os quais será aplicado o **OneHotEncoder** do scikit-learn.\n",
        "\n",
        "Essa transformação cria uma coluna para cada categoria do atributo, assinalando com 1 caso o registro pertença à classe em questão ou 0 caso contrário."
      ],
      "metadata": {
        "id": "AiDz2bhhnp2M"
      }
    },
    {
      "cell_type": "code",
      "source": [
        "ohe = OneHotEncoder(handle_unknown='ignore').fit(X_train[cat_vars])\n",
        "ohe_df = pd.DataFrame(ohe.transform(X_train[cat_vars]).toarray(),\n",
        "                      columns=ohe.get_feature_names_out(),\n",
        "                      index=X_train.index)\n",
        "# Cria uma nova visualização dos dados com OneHotEncoder para dados categóricos\n",
        "X_train_ohe = pd.concat([X_train, ohe_df], axis=1).drop(cat_vars, axis=1)\n",
        "\n",
        "X_train_ohe.head()"
      ],
      "metadata": {
        "id": "sha2vUPZrlu-",
        "outputId": "372ba16a-0695-4b50-cad6-23bcf6b7bab2",
        "colab": {
          "base_uri": "https://localhost:8080/",
          "height": 288
        }
      },
      "execution_count": 18,
      "outputs": [
        {
          "output_type": "execute_result",
          "data": {
            "text/plain": [
              "      CreditScore  Age  Tenure    Balance  NumOfProducts  HasCrCard  \\\n",
              "4791          709   35       2       0.00              2          1   \n",
              "8881          744   29       1   43504.42              1          1   \n",
              "6166          773   64       2  145578.28              1          0   \n",
              "4473          646   29       4  105957.44              1          1   \n",
              "854           675   57       8       0.00              2          0   \n",
              "\n",
              "      IsActiveMember  EstimatedSalary  Complain  Satisfaction Score  \\\n",
              "4791               0        104982.39         0                   2   \n",
              "8881               1        119327.75         0                   1   \n",
              "6166               1        186172.85         0                   1   \n",
              "4473               0         15470.91         0                   1   \n",
              "854                1         95463.29         0                   3   \n",
              "\n",
              "      Point Earned  Geography_France  Geography_Germany  Geography_Spain  \\\n",
              "4791           422               0.0                0.0              1.0   \n",
              "8881           607               1.0                0.0              0.0   \n",
              "6166           630               1.0                0.0              0.0   \n",
              "4473           345               0.0                1.0              0.0   \n",
              "854            632               1.0                0.0              0.0   \n",
              "\n",
              "      Gender_Female  Gender_Male  Card Type_DIAMOND  Card Type_GOLD  \\\n",
              "4791            0.0          1.0                0.0             1.0   \n",
              "8881            0.0          1.0                0.0             0.0   \n",
              "6166            0.0          1.0                0.0             0.0   \n",
              "4473            1.0          0.0                0.0             0.0   \n",
              "854             1.0          0.0                0.0             0.0   \n",
              "\n",
              "      Card Type_PLATINUM  Card Type_SILVER  \n",
              "4791                 0.0               0.0  \n",
              "8881                 1.0               0.0  \n",
              "6166                 0.0               1.0  \n",
              "4473                 1.0               0.0  \n",
              "854                  0.0               1.0  "
            ],
            "text/html": [
              "\n",
              "  <div id=\"df-51bd5784-08a1-48c6-99ba-612b0713033f\">\n",
              "    <div class=\"colab-df-container\">\n",
              "      <div>\n",
              "<style scoped>\n",
              "    .dataframe tbody tr th:only-of-type {\n",
              "        vertical-align: middle;\n",
              "    }\n",
              "\n",
              "    .dataframe tbody tr th {\n",
              "        vertical-align: top;\n",
              "    }\n",
              "\n",
              "    .dataframe thead th {\n",
              "        text-align: right;\n",
              "    }\n",
              "</style>\n",
              "<table border=\"1\" class=\"dataframe\">\n",
              "  <thead>\n",
              "    <tr style=\"text-align: right;\">\n",
              "      <th></th>\n",
              "      <th>CreditScore</th>\n",
              "      <th>Age</th>\n",
              "      <th>Tenure</th>\n",
              "      <th>Balance</th>\n",
              "      <th>NumOfProducts</th>\n",
              "      <th>HasCrCard</th>\n",
              "      <th>IsActiveMember</th>\n",
              "      <th>EstimatedSalary</th>\n",
              "      <th>Complain</th>\n",
              "      <th>Satisfaction Score</th>\n",
              "      <th>Point Earned</th>\n",
              "      <th>Geography_France</th>\n",
              "      <th>Geography_Germany</th>\n",
              "      <th>Geography_Spain</th>\n",
              "      <th>Gender_Female</th>\n",
              "      <th>Gender_Male</th>\n",
              "      <th>Card Type_DIAMOND</th>\n",
              "      <th>Card Type_GOLD</th>\n",
              "      <th>Card Type_PLATINUM</th>\n",
              "      <th>Card Type_SILVER</th>\n",
              "    </tr>\n",
              "  </thead>\n",
              "  <tbody>\n",
              "    <tr>\n",
              "      <th>4791</th>\n",
              "      <td>709</td>\n",
              "      <td>35</td>\n",
              "      <td>2</td>\n",
              "      <td>0.00</td>\n",
              "      <td>2</td>\n",
              "      <td>1</td>\n",
              "      <td>0</td>\n",
              "      <td>104982.39</td>\n",
              "      <td>0</td>\n",
              "      <td>2</td>\n",
              "      <td>422</td>\n",
              "      <td>0.0</td>\n",
              "      <td>0.0</td>\n",
              "      <td>1.0</td>\n",
              "      <td>0.0</td>\n",
              "      <td>1.0</td>\n",
              "      <td>0.0</td>\n",
              "      <td>1.0</td>\n",
              "      <td>0.0</td>\n",
              "      <td>0.0</td>\n",
              "    </tr>\n",
              "    <tr>\n",
              "      <th>8881</th>\n",
              "      <td>744</td>\n",
              "      <td>29</td>\n",
              "      <td>1</td>\n",
              "      <td>43504.42</td>\n",
              "      <td>1</td>\n",
              "      <td>1</td>\n",
              "      <td>1</td>\n",
              "      <td>119327.75</td>\n",
              "      <td>0</td>\n",
              "      <td>1</td>\n",
              "      <td>607</td>\n",
              "      <td>1.0</td>\n",
              "      <td>0.0</td>\n",
              "      <td>0.0</td>\n",
              "      <td>0.0</td>\n",
              "      <td>1.0</td>\n",
              "      <td>0.0</td>\n",
              "      <td>0.0</td>\n",
              "      <td>1.0</td>\n",
              "      <td>0.0</td>\n",
              "    </tr>\n",
              "    <tr>\n",
              "      <th>6166</th>\n",
              "      <td>773</td>\n",
              "      <td>64</td>\n",
              "      <td>2</td>\n",
              "      <td>145578.28</td>\n",
              "      <td>1</td>\n",
              "      <td>0</td>\n",
              "      <td>1</td>\n",
              "      <td>186172.85</td>\n",
              "      <td>0</td>\n",
              "      <td>1</td>\n",
              "      <td>630</td>\n",
              "      <td>1.0</td>\n",
              "      <td>0.0</td>\n",
              "      <td>0.0</td>\n",
              "      <td>0.0</td>\n",
              "      <td>1.0</td>\n",
              "      <td>0.0</td>\n",
              "      <td>0.0</td>\n",
              "      <td>0.0</td>\n",
              "      <td>1.0</td>\n",
              "    </tr>\n",
              "    <tr>\n",
              "      <th>4473</th>\n",
              "      <td>646</td>\n",
              "      <td>29</td>\n",
              "      <td>4</td>\n",
              "      <td>105957.44</td>\n",
              "      <td>1</td>\n",
              "      <td>1</td>\n",
              "      <td>0</td>\n",
              "      <td>15470.91</td>\n",
              "      <td>0</td>\n",
              "      <td>1</td>\n",
              "      <td>345</td>\n",
              "      <td>0.0</td>\n",
              "      <td>1.0</td>\n",
              "      <td>0.0</td>\n",
              "      <td>1.0</td>\n",
              "      <td>0.0</td>\n",
              "      <td>0.0</td>\n",
              "      <td>0.0</td>\n",
              "      <td>1.0</td>\n",
              "      <td>0.0</td>\n",
              "    </tr>\n",
              "    <tr>\n",
              "      <th>854</th>\n",
              "      <td>675</td>\n",
              "      <td>57</td>\n",
              "      <td>8</td>\n",
              "      <td>0.00</td>\n",
              "      <td>2</td>\n",
              "      <td>0</td>\n",
              "      <td>1</td>\n",
              "      <td>95463.29</td>\n",
              "      <td>0</td>\n",
              "      <td>3</td>\n",
              "      <td>632</td>\n",
              "      <td>1.0</td>\n",
              "      <td>0.0</td>\n",
              "      <td>0.0</td>\n",
              "      <td>1.0</td>\n",
              "      <td>0.0</td>\n",
              "      <td>0.0</td>\n",
              "      <td>0.0</td>\n",
              "      <td>0.0</td>\n",
              "      <td>1.0</td>\n",
              "    </tr>\n",
              "  </tbody>\n",
              "</table>\n",
              "</div>\n",
              "      <button class=\"colab-df-convert\" onclick=\"convertToInteractive('df-51bd5784-08a1-48c6-99ba-612b0713033f')\"\n",
              "              title=\"Convert this dataframe to an interactive table.\"\n",
              "              style=\"display:none;\">\n",
              "        \n",
              "  <svg xmlns=\"http://www.w3.org/2000/svg\" height=\"24px\"viewBox=\"0 0 24 24\"\n",
              "       width=\"24px\">\n",
              "    <path d=\"M0 0h24v24H0V0z\" fill=\"none\"/>\n",
              "    <path d=\"M18.56 5.44l.94 2.06.94-2.06 2.06-.94-2.06-.94-.94-2.06-.94 2.06-2.06.94zm-11 1L8.5 8.5l.94-2.06 2.06-.94-2.06-.94L8.5 2.5l-.94 2.06-2.06.94zm10 10l.94 2.06.94-2.06 2.06-.94-2.06-.94-.94-2.06-.94 2.06-2.06.94z\"/><path d=\"M17.41 7.96l-1.37-1.37c-.4-.4-.92-.59-1.43-.59-.52 0-1.04.2-1.43.59L10.3 9.45l-7.72 7.72c-.78.78-.78 2.05 0 2.83L4 21.41c.39.39.9.59 1.41.59.51 0 1.02-.2 1.41-.59l7.78-7.78 2.81-2.81c.8-.78.8-2.07 0-2.86zM5.41 20L4 18.59l7.72-7.72 1.47 1.35L5.41 20z\"/>\n",
              "  </svg>\n",
              "      </button>\n",
              "      \n",
              "  <style>\n",
              "    .colab-df-container {\n",
              "      display:flex;\n",
              "      flex-wrap:wrap;\n",
              "      gap: 12px;\n",
              "    }\n",
              "\n",
              "    .colab-df-convert {\n",
              "      background-color: #E8F0FE;\n",
              "      border: none;\n",
              "      border-radius: 50%;\n",
              "      cursor: pointer;\n",
              "      display: none;\n",
              "      fill: #1967D2;\n",
              "      height: 32px;\n",
              "      padding: 0 0 0 0;\n",
              "      width: 32px;\n",
              "    }\n",
              "\n",
              "    .colab-df-convert:hover {\n",
              "      background-color: #E2EBFA;\n",
              "      box-shadow: 0px 1px 2px rgba(60, 64, 67, 0.3), 0px 1px 3px 1px rgba(60, 64, 67, 0.15);\n",
              "      fill: #174EA6;\n",
              "    }\n",
              "\n",
              "    [theme=dark] .colab-df-convert {\n",
              "      background-color: #3B4455;\n",
              "      fill: #D2E3FC;\n",
              "    }\n",
              "\n",
              "    [theme=dark] .colab-df-convert:hover {\n",
              "      background-color: #434B5C;\n",
              "      box-shadow: 0px 1px 3px 1px rgba(0, 0, 0, 0.15);\n",
              "      filter: drop-shadow(0px 1px 2px rgba(0, 0, 0, 0.3));\n",
              "      fill: #FFFFFF;\n",
              "    }\n",
              "  </style>\n",
              "\n",
              "      <script>\n",
              "        const buttonEl =\n",
              "          document.querySelector('#df-51bd5784-08a1-48c6-99ba-612b0713033f button.colab-df-convert');\n",
              "        buttonEl.style.display =\n",
              "          google.colab.kernel.accessAllowed ? 'block' : 'none';\n",
              "\n",
              "        async function convertToInteractive(key) {\n",
              "          const element = document.querySelector('#df-51bd5784-08a1-48c6-99ba-612b0713033f');\n",
              "          const dataTable =\n",
              "            await google.colab.kernel.invokeFunction('convertToInteractive',\n",
              "                                                     [key], {});\n",
              "          if (!dataTable) return;\n",
              "\n",
              "          const docLinkHtml = 'Like what you see? Visit the ' +\n",
              "            '<a target=\"_blank\" href=https://colab.research.google.com/notebooks/data_table.ipynb>data table notebook</a>'\n",
              "            + ' to learn more about interactive tables.';\n",
              "          element.innerHTML = '';\n",
              "          dataTable['output_type'] = 'display_data';\n",
              "          await google.colab.output.renderOutput(dataTable, element);\n",
              "          const docLink = document.createElement('div');\n",
              "          docLink.innerHTML = docLinkHtml;\n",
              "          element.appendChild(docLink);\n",
              "        }\n",
              "      </script>\n",
              "    </div>\n",
              "  </div>\n",
              "  "
            ]
          },
          "metadata": {},
          "execution_count": 18
        }
      ]
    },
    {
      "cell_type": "code",
      "source": [
        "def plot_feature_importances(model):\n",
        "  plt.figure(figsize=(8,6))\n",
        "  ax = sns.barplot(x=model.feature_names_in_,\n",
        "              y=model.feature_importances_)\n",
        "  plt.title(f\"Importância dos atributos\")\n",
        "  plt.xticks(rotation=90)\n",
        "  for i, v in enumerate(model.feature_importances_):\n",
        "      ax.text(i, v+.01, f\"{v:.2f}\", horizontalalignment='center')"
      ],
      "metadata": {
        "id": "n4O2C2pgvLXb"
      },
      "execution_count": 19,
      "outputs": []
    },
    {
      "cell_type": "code",
      "source": [
        "# Cria uma instância do classificador ExtraTrees\n",
        "etc = ExtraTreesClassifier(n_estimators=50)\n",
        "etc.fit(X_train_ohe, y_train)\n",
        "# Plota a importância dos atributos para o modelo\n",
        "plot_feature_importances(etc)"
      ],
      "metadata": {
        "id": "kdGU50B2p8dv",
        "outputId": "628dd4f7-cc4c-431e-9314-c82e33eafb87",
        "colab": {
          "base_uri": "https://localhost:8080/",
          "height": 679
        }
      },
      "execution_count": 20,
      "outputs": [
        {
          "output_type": "display_data",
          "data": {
            "text/plain": [
              "<Figure size 800x600 with 1 Axes>"
            ],
            "image/png": "[encoded data removed]"
          },
          "metadata": {}
        }
      ]
    },
    {
      "cell_type": "code",
      "source": [
        "# Seleciona os 10 atributos mais importantes\n",
        "fi_vars = [var for _, var in sorted(zip(etc.feature_importances_, etc.feature_names_in_), reverse=True)][:10]\n",
        "\n",
        "print(f\"Atributos selecionados por importância no modelo ExtraTrees: {', '.join(fi_vars)}\")"
      ],
      "metadata": {
        "id": "eSmd0XdFxpvp",
        "outputId": "4030c3cd-35f1-4b1c-a85c-130c6ae0eef0",
        "colab": {
          "base_uri": "https://localhost:8080/"
        }
      },
      "execution_count": 21,
      "outputs": [
        {
          "output_type": "stream",
          "name": "stdout",
          "text": [
            "Atributos selecionados por importância no modelo ExtraTrees: Complain, NumOfProducts, Age, IsActiveMember, Balance, Geography_Germany, CreditScore, EstimatedSalary, Point Earned, Tenure\n"
          ]
        }
      ]
    },
    {
      "cell_type": "markdown",
      "source": [
        "### Pipelines e validação cruzada\n",
        "\n",
        "Ainda nessa etapa, é fundamental se atentar ao problema conhecido como *data leakage* ou vazamento de dados. Isso ocorre quando as informações da base de teste são indevidamente absorvidas durante a fase de treino, resultando em uma estimativa enviesada e incorreta do desempenho de um modelo.\n",
        "\n",
        "Os **Pipelines** da biblioteca scikit-learn serão utilizados para nos auxiliar nesse problema. Estes deverão executar as seguintes etapas, para cada *fold* utilizado para treinamento no processo de validação cruzada:\n",
        "\n",
        "- Aplicar as transformações aos dados de entrada: Normalização ou Padronização aos dados numéricos e OneHotEncoder aos dados categóricos;\n",
        "\n",
        "- Realizar a seleção de atributos: SelectKBest ou Feature Importance do modelo ExtraTrees;\n",
        "\n",
        "- Treinar modelos com base nos algoritmos de Machine Learning mais adequados ao problema (classificação binária).\n",
        "\n",
        "Por meio da validação cruzada, será verificado qual modelo performa melhor (combinação entre as técnicas de transformação de dados, seleção de atributos e algoritmos de Machine Learning) nos dados de treino. A técnica de validação cruzada também nos ajudará a decidir, na sequência, quais os melhores parâmetros para o modelo escolhido.\n",
        "\n",
        "O modelo resultante dessa etapa será utilizado na predição dos dados do conjunto de teste, garantindo resultados confiáveis sobre o desempenho do mesmo em um ambiente mais próximo do real (em produção).\n",
        "\n"
      ],
      "metadata": {
        "id": "kFt1RHfC0MPr"
      }
    },
    {
      "cell_type": "code",
      "source": [
        "n_folds = 10 # Número de partições do método k-Fold\n",
        "\n",
        "# Definindo a validação cruzada com estratificação\n",
        "kfold = StratifiedKFold(n_splits=n_folds, shuffle=True, random_state=seed)"
      ],
      "metadata": {
        "id": "1Ex9vec2xbOr"
      },
      "execution_count": 22,
      "outputs": []
    },
    {
      "cell_type": "code",
      "source": [
        "# Definindo os pipelines para as transformações\n",
        "cat_pipe = Pipeline([\n",
        "    ('ohe', OneHotEncoder())\n",
        "])\n",
        "\n",
        "num_std_pipe = Pipeline([\n",
        "    ('std', StandardScaler())\n",
        "])\n",
        "\n",
        "num_mms_pipe = Pipeline([\n",
        "    ('mms', MinMaxScaler())\n",
        "])\n",
        "\n",
        "transform_ori_pipe = ColumnTransformer([\n",
        "    ('cat', cat_pipe, cat_vars),\n",
        "    ('num', 'passthrough', num_vars),\n",
        "    ('bin', 'passthrough', bin_vars)\n",
        "])\n",
        "transform_ori = ('transform', transform_ori_pipe)\n",
        "\n",
        "transform_std_pipe = ColumnTransformer([\n",
        "    ('cat', cat_pipe, cat_vars),\n",
        "    ('num', num_std_pipe, num_vars),\n",
        "    ('bin', 'passthrough', bin_vars)\n",
        "])\n",
        "transform_std = ('transform', transform_std_pipe)\n",
        "\n",
        "transform_mms_pipe = ColumnTransformer([\n",
        "    ('cat', cat_pipe, cat_vars),\n",
        "    ('num', num_mms_pipe, num_vars),\n",
        "    ('bin', 'passthrough', bin_vars)\n",
        "])\n",
        "transform_mms = ('transform', transform_mms_pipe)"
      ],
      "metadata": {
        "id": "9hFnDI-T3kD5"
      },
      "execution_count": 23,
      "outputs": []
    },
    {
      "cell_type": "code",
      "source": [
        "# Funções auxiliares\n",
        "def get_cat_indices(X):\n",
        "  return np.arange(0, X.shape[1]-(len(num_vars)+len(bin_vars)))\n",
        "\n",
        "def get_num_indices(X):\n",
        "  return np.arange(X.shape[1]-(len(num_vars)+len(bin_vars)), X.shape[1]-len(bin_vars))\n",
        "\n",
        "def get_bin_indices(X):\n",
        "  return np.arange(X.shape[1]-len(bin_vars), X.shape[1])"
      ],
      "metadata": {
        "id": "LMsL3w31OVi5"
      },
      "execution_count": 24,
      "outputs": []
    },
    {
      "cell_type": "code",
      "source": [
        "# Definindo os pipelines para a seleção de atributos\n",
        "kbest_pipe = ColumnTransformer([\n",
        "    ('cat', 'passthrough', get_cat_indices),\n",
        "    ('num', SelectKBest(score_func=f_classif, k=5), get_num_indices),\n",
        "    ('bin', 'passthrough', get_bin_indices)\n",
        "])\n",
        "kbest = ('select', kbest_pipe)\n",
        "\n",
        "fi_pipe = Pipeline([\n",
        "    ('fi', SelectFromModel(ExtraTreesClassifier(n_estimators=50),\n",
        "                           threshold=-np.inf,\n",
        "                           max_features=10))\n",
        "])\n",
        "fi = ('select', fi_pipe)"
      ],
      "metadata": {
        "id": "vHN04OnaSJPy"
      },
      "execution_count": 25,
      "outputs": []
    },
    {
      "cell_type": "markdown",
      "source": [
        "## Modelagem e Treinamento\n",
        "\n",
        "Diversos modelos de classificação são aplicáveis ao problema, desde os mais simples, como a Árvore de Decisão, até os mais complexos, como ensembles tais quais as Random Forests. Os seguintes modelos serão avaliados:\n",
        "\n",
        "- Regressão Logística;\n",
        "- Árvore de Decisão;\n",
        "- SVM;\n",
        "- kNN;\n",
        "- Nayve Bayes;\n",
        "- Random Forest;\n",
        "- Extra Trees;\n",
        "- AdaBoost;\n",
        "- Gradient Boosting."
      ],
      "metadata": {
        "id": "mgcrpSPGOYCf"
      }
    },
    {
      "cell_type": "code",
      "source": [
        "# Definindo os modelos aplicáveis ao problema\n",
        "models = {\"lr\": ('lr', LogisticRegression(max_iter=500)),\n",
        "          \"dtc\": ('dtc', DecisionTreeClassifier()),\n",
        "          \"svm\": ('svm', SVC()),\n",
        "          \"knn\": ('knn', KNeighborsClassifier()),\n",
        "          \"nb\": ('nb', GaussianNB()),\n",
        "          \"rf\": ('rf', RandomForestClassifier()),\n",
        "          \"ada\": ('ada', AdaBoostClassifier()),\n",
        "          \"gb\": ('gb', GradientBoostingClassifier())}"
      ],
      "metadata": {
        "id": "-W7P2gtGztI1"
      },
      "execution_count": 27,
      "outputs": []
    },
    {
      "cell_type": "markdown",
      "source": [
        "### Métricas de avaliação\n",
        "\n",
        "Uma etapa importante nesse estágio é definir as métricas de avaliação mais condizentes com o problema. O fato das classes do problema serem levemente desbalanceadas é extremamente relevante nessa escolha.\n",
        "\n",
        "Se utilizada a **acurácia**, por exemplo, que consiste no número de acertos sobre o número total de predições, podemos ter uma estimativa irreal do desempenho do modelo. Isso ocorre pois, para os casos em que a classe majoritária é muito predominante, a simples escolha por essa classe em cada predição realizada já resultaria em um alto valor de acurácia.\n",
        "\n",
        "A **precisão**, por sua vez, indica o número de predições positivas que de fato estão corretas. Nesse sentido, poderiamos ter um modelo com boa precisão, mas que identifica uma porcentagem muito baixa de churn.\n",
        "\n",
        "O **recall** seria uma métrica mais interessante para esse problema. Também chamado de sensibilidade ou taxa de verdadeiros positivos, essa indica a porcentagem de amostras da classe verdadeira que foram corretamente identificadas pelo modelo.\n",
        "\n",
        "Existe um *trade-off* a ser realizado entre precisão e recall. No contexto do problema de negócios apresentado, um modelo com maior precisão e menor recall seria bastante correto nos casos de churn identificados, porém detectaria uma pequena parcela desses. Os custos envolvidos, nesse contexto, seriam em relação à \"perda\" do LTV (*Lifetime Value*) do cliente que deixa a empresa.\n",
        "\n",
        "Em um segundo caso, quando o modelo apresenta um maior recall e menor precisão, grande parte das ocorrências de churn seriam identificadas, porém o modelo produziria mais falsos positivos, ou seja, clientes que não se tornariam churn. O custo envolvido, para esse caso, seria em relação aos gastos desnecessários em ações de campanhas para retenção de clientes que, na verdade, não deixariam a empresa na ausência das mesmas.\n",
        "\n",
        "A proporção entre o custo de se reter um cliente ou perdê-lo como churn pode variar muito e depende do tipo de negócio, o valor daquele cliente em específico e outros fatores. Uma informação apontada anteriormente, no entanto, mostra que o custo para se adquirir um novo cliente é de 5 a 7 vezes maior do que o custo para se manter um atual.\n",
        "\n",
        "Sendo assim, a métrica de avaliação mais importante nesse contexto será a **F$\\beta$-Score**, que realiza um média harmônica ponderada entre precisão e recall. A ponderação é realizada por meio de um parâmetro $\\beta$, que define o peso do recall em relação à precisão. Diante do que foi apresentado, $\\beta$ será definido como 5 (recall com peso 5x maior que a precisão)."
      ],
      "metadata": {
        "id": "Ng65ob9zFeOt"
      }
    },
    {
      "cell_type": "code",
      "source": [
        "# Definindo a função de pontuação customizada\n",
        "fbeta_scorer = make_scorer(fbeta_score, beta=5)"
      ],
      "metadata": {
        "id": "IXiZXYVNL9Ax"
      },
      "execution_count": 37,
      "outputs": []
    },
    {
      "cell_type": "markdown",
      "source": [
        "### Treinamento dos modelos"
      ],
      "metadata": {
        "id": "tz3S4mMvNoKj"
      }
    },
    {
      "cell_type": "code",
      "source": [
        "# Listas para armazenar os pipelines e resultados para todas as visões do dataset\n",
        "pipelines = []\n",
        "results = []\n",
        "names = []\n",
        "\n",
        "# Criando os pipelines\n",
        "\n",
        "# Dataset original, sem seleção de atributos\n",
        "pipelines.append(('lr-ori', Pipeline([transform_ori, models[\"lr\"]])))\n",
        "pipelines.append(('dtc-ori', Pipeline([transform_ori, models[\"dtc\"]])))\n",
        "pipelines.append(('svm-ori', Pipeline([transform_ori, models[\"svm\"]])))\n",
        "pipelines.append(('knn-ori', Pipeline([transform_ori, models[\"knn\"]])))\n",
        "pipelines.append(('nb-ori', Pipeline([transform_ori, models[\"nb\"]])))\n",
        "pipelines.append(('rf-ori', Pipeline([transform_ori, models[\"rf\"]])))\n",
        "pipelines.append(('ada-ori', Pipeline([transform_ori, models[\"ada\"]])))\n",
        "pipelines.append(('gb-ori', Pipeline([transform_ori, models[\"gb\"]])))\n",
        "\n",
        "# Dataset padronizado, sem seleção de atributos\n",
        "pipelines.append(('lr-std', Pipeline([transform_std, models[\"lr\"]])))\n",
        "pipelines.append(('dtc-std', Pipeline([transform_std, models[\"dtc\"]])))\n",
        "pipelines.append(('svm-std', Pipeline([transform_std, models[\"svm\"]])))\n",
        "pipelines.append(('knn-std', Pipeline([transform_std, models[\"knn\"]])))\n",
        "pipelines.append(('nb-std', Pipeline([transform_std, models[\"nb\"]])))\n",
        "pipelines.append(('rf-std', Pipeline([transform_std, models[\"rf\"]])))\n",
        "pipelines.append(('ada-std', Pipeline([transform_std, models[\"ada\"]])))\n",
        "pipelines.append(('gb-std', Pipeline([transform_std, models[\"gb\"]])))\n",
        "\n",
        "# Dataset normalizado, sem seleção de atributos\n",
        "pipelines.append(('lr-mms', Pipeline([transform_mms, models[\"lr\"]])))\n",
        "pipelines.append(('dtc-mms', Pipeline([transform_mms, models[\"dtc\"]])))\n",
        "pipelines.append(('svm-mms', Pipeline([transform_mms, models[\"svm\"]])))\n",
        "pipelines.append(('knn-mms', Pipeline([transform_mms, models[\"knn\"]])))\n",
        "pipelines.append(('nb-mms', Pipeline([transform_mms, models[\"nb\"]])))\n",
        "pipelines.append(('rf-mms', Pipeline([transform_mms, models[\"rf\"]])))\n",
        "pipelines.append(('ada-mms', Pipeline([transform_mms, models[\"ada\"]])))\n",
        "pipelines.append(('gb-mms', Pipeline([transform_mms, models[\"gb\"]])))\n",
        "\n",
        "# Dataset original, com seleção por SelectKBest\n",
        "pipelines.append(('lr-ori-kbest', Pipeline([transform_ori, kbest, models[\"lr\"]])))\n",
        "pipelines.append(('dtc-ori-kbest', Pipeline([transform_ori, kbest, models[\"dtc\"]])))\n",
        "pipelines.append(('svm-ori-kbest', Pipeline([transform_ori, kbest, models[\"svm\"]])))\n",
        "pipelines.append(('knn-ori-kbest', Pipeline([transform_ori, kbest, models[\"knn\"]])))\n",
        "pipelines.append(('nb-ori-kbest', Pipeline([transform_ori, kbest, models[\"nb\"]])))\n",
        "pipelines.append(('rf-ori-kbest', Pipeline([transform_ori, kbest, models[\"rf\"]])))\n",
        "pipelines.append(('ada-ori-kbest', Pipeline([transform_ori, kbest, models[\"ada\"]])))\n",
        "pipelines.append(('gb-ori-kbest', Pipeline([transform_ori, kbest, models[\"gb\"]])))\n",
        "\n",
        "# Dataset padronizado, com seleção por SelectKBest\n",
        "pipelines.append(('lr-std-kbest', Pipeline([transform_std, kbest, models[\"lr\"]])))\n",
        "pipelines.append(('dtc-std-kbest', Pipeline([transform_std, kbest, models[\"dtc\"]])))\n",
        "pipelines.append(('svm-std-kbest', Pipeline([transform_std, kbest, models[\"svm\"]])))\n",
        "pipelines.append(('knn-std-kbest', Pipeline([transform_std, kbest, models[\"knn\"]])))\n",
        "pipelines.append(('nb-std-kbest', Pipeline([transform_std, kbest, models[\"nb\"]])))\n",
        "pipelines.append(('rf-std-kbest', Pipeline([transform_std, kbest, models[\"rf\"]])))\n",
        "pipelines.append(('ada-std-kbest', Pipeline([transform_std, kbest, models[\"ada\"]])))\n",
        "pipelines.append(('gb-std-kbest', Pipeline([transform_std, kbest, models[\"gb\"]])))\n",
        "\n",
        "# Dataset normalizado, com seleção por SelectKBest\n",
        "pipelines.append(('lr-mms-kbest', Pipeline([transform_mms, kbest, models[\"lr\"]])))\n",
        "pipelines.append(('dtc-mms-kbest', Pipeline([transform_mms, kbest, models[\"dtc\"]])))\n",
        "pipelines.append(('svm-mms-kbest', Pipeline([transform_mms, kbest, models[\"svm\"]])))\n",
        "pipelines.append(('knn-mms-kbest', Pipeline([transform_mms, kbest, models[\"knn\"]])))\n",
        "pipelines.append(('nb-mms-kbest', Pipeline([transform_mms, kbest, models[\"nb\"]])))\n",
        "pipelines.append(('rf-mms-kbest', Pipeline([transform_mms, kbest, models[\"rf\"]])))\n",
        "pipelines.append(('ada-mms-kbest', Pipeline([transform_mms, kbest, models[\"ada\"]])))\n",
        "pipelines.append(('gb-mms-kbest', Pipeline([transform_mms, kbest, models[\"gb\"]])))\n",
        "\n",
        "# Dataset original, com seleção por Feature Importance\n",
        "pipelines.append(('lr-ori-fi', Pipeline([transform_ori, fi, models[\"lr\"]])))\n",
        "pipelines.append(('dtc-ori-fi', Pipeline([transform_ori, fi, models[\"dtc\"]])))\n",
        "pipelines.append(('svm-ori-fi', Pipeline([transform_ori, fi, models[\"svm\"]])))\n",
        "pipelines.append(('knn-ori-fi', Pipeline([transform_ori, fi, models[\"knn\"]])))\n",
        "pipelines.append(('nb-ori-fi', Pipeline([transform_ori, fi, models[\"nb\"]])))\n",
        "pipelines.append(('rf-ori-fi', Pipeline([transform_ori, fi, models[\"rf\"]])))\n",
        "pipelines.append(('ada-ori-fi', Pipeline([transform_ori, fi, models[\"ada\"]])))\n",
        "pipelines.append(('gb-ori-fi', Pipeline([transform_ori, fi, models[\"gb\"]])))\n",
        "\n",
        "# Dataset padronizado, com seleção por Feature Importance\n",
        "pipelines.append(('lr-std-fi', Pipeline([transform_std, fi, models[\"lr\"]])))\n",
        "pipelines.append(('dtc-std-fi', Pipeline([transform_std, fi, models[\"dtc\"]])))\n",
        "pipelines.append(('svm-std-fi', Pipeline([transform_std, fi, models[\"svm\"]])))\n",
        "pipelines.append(('knn-std-fi', Pipeline([transform_std, fi, models[\"knn\"]])))\n",
        "pipelines.append(('nb-std-fi', Pipeline([transform_std, fi, models[\"nb\"]])))\n",
        "pipelines.append(('rf-std-fi', Pipeline([transform_std, fi, models[\"rf\"]])))\n",
        "pipelines.append(('ada-std-fi', Pipeline([transform_std, fi, models[\"ada\"]])))\n",
        "pipelines.append(('gb-std-fi', Pipeline([transform_std, fi, models[\"gb\"]])))\n",
        "\n",
        "# Dataset normalizado, com seleção por Feature Importance\n",
        "pipelines.append(('lr-mms-fi', Pipeline([transform_mms, fi, models[\"lr\"]])))\n",
        "pipelines.append(('dtc-mms-fi', Pipeline([transform_mms, fi, models[\"dtc\"]])))\n",
        "pipelines.append(('svm-mms-fi', Pipeline([transform_mms, fi, models[\"svm\"]])))\n",
        "pipelines.append(('knn-mms-fi', Pipeline([transform_mms, fi, models[\"knn\"]])))\n",
        "pipelines.append(('nb-mms-fi', Pipeline([transform_mms, fi, models[\"nb\"]])))\n",
        "pipelines.append(('rf-mms-fi', Pipeline([transform_mms, fi, models[\"rf\"]])))\n",
        "pipelines.append(('ada-mms-fi', Pipeline([transform_mms, fi, models[\"ada\"]])))\n",
        "pipelines.append(('gb-mms-fi', Pipeline([transform_mms, fi, models[\"gb\"]])))"
      ],
      "metadata": {
        "id": "B2aY4LcbFGWk"
      },
      "execution_count": 36,
      "outputs": []
    },
    {
      "cell_type": "code",
      "source": [
        "# Executando os pipelines\n",
        "for name, model in pipelines:\n",
        "  cv_results = cross_val_score(model, X_train, y_train, cv=kfold, scoring=fbeta_scorer)\n",
        "  results.append(cv_results)\n",
        "  names.append(name)\n",
        "  msg = \"%s: %.3f (%.3f)\" % (name, cv_results.mean(), cv_results.std())\n",
        "  print(msg)"
      ],
      "metadata": {
        "id": "J3fplSyZLN5l",
        "outputId": "f048c19b-701e-4de9-eecd-1b362b462a9e",
        "colab": {
          "base_uri": "https://localhost:8080/"
        }
      },
      "execution_count": 39,
      "outputs": [
        {
          "output_type": "stream",
          "name": "stdout",
          "text": [
            "lr-ori: 0.064 (0.013)\n",
            "dtc-ori: 0.992 (0.005)\n",
            "svm-ori: 0.000 (0.000)\n",
            "knn-ori: 0.087 (0.011)\n",
            "nb-ori: 0.104 (0.015)\n",
            "rf-ori: 0.999 (0.002)\n",
            "ada-ori: 0.999 (0.002)\n",
            "gb-ori: 0.999 (0.002)\n",
            "lr-std: 0.999 (0.002)\n",
            "dtc-std: 0.991 (0.007)\n",
            "svm-std: 0.999 (0.002)\n",
            "knn-std: 0.628 (0.028)\n",
            "nb-std: 0.999 (0.002)\n",
            "rf-std: 0.999 (0.002)\n",
            "ada-std: 0.999 (0.002)\n",
            "gb-std: 0.999 (0.002)\n",
            "lr-mms: 0.999 (0.002)\n",
            "dtc-mms: 0.993 (0.004)\n",
            "svm-mms: 0.999 (0.002)\n",
            "knn-mms: 0.985 (0.008)\n",
            "nb-mms: 0.999 (0.002)\n",
            "rf-mms: 0.999 (0.002)\n",
            "ada-mms: 0.999 (0.002)\n",
            "gb-mms: 0.999 (0.002)\n",
            "lr-ori-kbest: 0.146 (0.276)\n",
            "dtc-ori-kbest: 0.992 (0.007)\n",
            "svm-ori-kbest: 0.000 (0.000)\n",
            "knn-ori-kbest: 0.081 (0.013)\n",
            "nb-ori-kbest: 0.105 (0.014)\n",
            "rf-ori-kbest: 0.999 (0.002)\n",
            "ada-ori-kbest: 0.999 (0.002)\n",
            "gb-ori-kbest: 0.999 (0.002)\n",
            "lr-std-kbest: 0.999 (0.002)\n",
            "dtc-std-kbest: 0.992 (0.007)\n",
            "svm-std-kbest: 0.999 (0.002)\n",
            "knn-std-kbest: 0.739 (0.027)\n",
            "nb-std-kbest: 0.999 (0.002)\n",
            "rf-std-kbest: 0.999 (0.002)\n",
            "ada-std-kbest: 0.999 (0.002)\n",
            "gb-std-kbest: 0.999 (0.002)\n",
            "lr-mms-kbest: 0.999 (0.002)\n",
            "dtc-mms-kbest: 0.992 (0.006)\n",
            "svm-mms-kbest: 0.999 (0.002)\n",
            "knn-mms-kbest: 0.998 (0.004)\n",
            "nb-mms-kbest: 0.999 (0.002)\n",
            "rf-mms-kbest: 0.999 (0.002)\n",
            "ada-mms-kbest: 0.999 (0.002)\n",
            "gb-mms-kbest: 0.999 (0.002)\n",
            "lr-ori-fi: 0.159 (0.277)\n",
            "dtc-ori-fi: 0.992 (0.006)\n",
            "svm-ori-fi: 0.000 (0.000)\n",
            "knn-ori-fi: 0.087 (0.011)\n",
            "nb-ori-fi: 0.101 (0.013)\n",
            "rf-ori-fi: 0.999 (0.002)\n",
            "ada-ori-fi: 0.999 (0.002)\n",
            "gb-ori-fi: 0.999 (0.002)\n",
            "lr-std-fi: 0.999 (0.002)\n",
            "dtc-std-fi: 0.994 (0.006)\n",
            "svm-std-fi: 0.999 (0.002)\n",
            "knn-std-fi: 0.828 (0.033)\n",
            "nb-std-fi: 0.999 (0.002)\n",
            "rf-std-fi: 0.999 (0.002)\n",
            "ada-std-fi: 0.999 (0.002)\n",
            "gb-std-fi: 0.999 (0.002)\n",
            "lr-mms-fi: 0.999 (0.002)\n",
            "dtc-mms-fi: 0.993 (0.006)\n",
            "svm-mms-fi: 0.999 (0.002)\n",
            "knn-mms-fi: 0.999 (0.002)\n",
            "nb-mms-fi: 0.999 (0.002)\n",
            "rf-mms-fi: 0.999 (0.002)\n",
            "ada-mms-fi: 0.999 (0.002)\n",
            "gb-mms-fi: 0.999 (0.002)\n"
          ]
        }
      ]
    },
    {
      "cell_type": "markdown",
      "source": [
        "## Avaliação de Resultados"
      ],
      "metadata": {
        "id": "zFgaQVVbObDu"
      }
    }
  ]
}