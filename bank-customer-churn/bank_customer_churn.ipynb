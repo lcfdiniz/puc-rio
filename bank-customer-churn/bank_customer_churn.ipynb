{
  "nbformat": 4,
  "nbformat_minor": 0,
  "metadata": {
    "colab": {
      "provenance": [],
      "toc_visible": true,
      "authorship_tag": "ABX9TyOWExkAnvDZDMvq+IYnQ2VO",
      "include_colab_link": true
    },
    "kernelspec": {
      "name": "python3",
      "display_name": "Python 3"
    },
    "language_info": {
      "name": "python"
    }
  },
  "cells": [
    {
      "cell_type": "markdown",
      "metadata": {
        "id": "view-in-github",
        "colab_type": "text"
      },
      "source": [
        "<a href=\"https://colab.research.google.com/github/lcfdiniz/puc-rio/blob/main/bank-customer-churn/bank_customer_churn.ipynb\" target=\"_parent\"><img src=\"https://colab.research.google.com/assets/colab-badge.svg\" alt=\"Open In Colab\"/></a>"
      ]
    },
    {
      "cell_type": "markdown",
      "source": [
        "# Predição de churn para clientes de banco\n",
        "\n",
        "por [Lucas Fiorani Diniz](https://www.linkedin.com/in/lcfdiniz/)"
      ],
      "metadata": {
        "id": "oJr5G_lkO7XF"
      }
    },
    {
      "cell_type": "markdown",
      "source": [
        "## Definição do Problema\n",
        "\n",
        "A taxa de churn (*churn rate*) é uma métrica que aponta a rotatividade dos clientes de uma empresa, ou de forma mais direta, o número de clientes que deixaram de fazer negócios com a empresa em um determinado período de tempo.\n",
        "\n",
        "Entre as maneiras de se reduzir o churn de uma empresa, estão o entendimento dos motivos do cancelamento e identificação dos clientes com maior chance de ir embora.\n",
        "\n",
        "Com essa abordagem, é possível realizar ações preventivas efetivas, que mantenham os clientes na base por mais tempo. O investimento na predição de churn e consequente retenção de clientes é extremamente eficiente, dado que o custo para se adquirir um novo cliente pode ser de 5 a 7 vezes maior do que manter um atual. [[1]](https://jrs.digital/conquistar-um-novo-cliente-custa-entre-5-a-7-vezes-mais-que-manter-um-atual/#:~:text=Segundo%20o%20economista%20americano%20Philip,de%20clientes%2C%20usu%C3%A1rios%20e%20compradores.)\n",
        "\n",
        "Nesse sentido, técnicas de Machine Learning possuem um grande potencial de identificar com sucesso os fatores que levam aos cancelamentos dos serviços e os clientes com maior probabilidade de se tornarem churn.\n",
        "\n",
        "Para o caso das instituições bancárias, altas taxas de churn podem impactar diretamente sua receita e rentabilidade. Entre os motivos para que um cliente possa decidir encerrar sua conta bancária ou deixar de utilizar os serviços de um banco, estão:\n",
        "\n",
        "- Insatisfação com os serviços oferecidos;\n",
        "- Má experiência com os produtos financeiros;\n",
        "- Concorrência;\n",
        "- Mudanças nas circunstâncias pessoais do cliente.\n",
        "\n",
        "Caso essas instituições sejam capazes de identificar as causas e clientes com maior potencial de churn, é possível adotar estratégias como:\n",
        "\n",
        "- Melhoria dos serviços;\n",
        "- Personalização de ofertas e recomendações;\n",
        "- Programas de fidelidade e recompensa;\n",
        "- Monitoramento proativo."
      ],
      "metadata": {
        "id": "PiOy0PNzLwPr"
      }
    },
    {
      "cell_type": "markdown",
      "source": [
        "### Levantamento de hipóteses"
      ],
      "metadata": {
        "id": "vGH8Qcu_bzpq"
      }
    },
    {
      "cell_type": "markdown",
      "source": [
        "### Restrições e condições respeitadas"
      ],
      "metadata": {
        "id": "oTZKq2jub2c8"
      }
    },
    {
      "cell_type": "markdown",
      "source": [
        "### Dataset utilizado"
      ],
      "metadata": {
        "id": "IoJdJyAxb48N"
      }
    },
    {
      "cell_type": "markdown",
      "source": [
        "## Preparação de Dados"
      ],
      "metadata": {
        "id": "RJa1oX7OORdT"
      }
    },
    {
      "cell_type": "markdown",
      "source": [
        "## Modelagem e Treinamento"
      ],
      "metadata": {
        "id": "mgcrpSPGOYCf"
      }
    },
    {
      "cell_type": "markdown",
      "source": [
        "## Avaliação de Resultados"
      ],
      "metadata": {
        "id": "zFgaQVVbObDu"
      }
    }
  ]
}