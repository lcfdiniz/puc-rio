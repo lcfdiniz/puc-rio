{
  "nbformat": 4,
  "nbformat_minor": 0,
  "metadata": {
    "colab": {
      "provenance": [],
      "toc_visible": true,
      "authorship_tag": "ABX9TyO46rZSAr1jlkLDklsZD6/D",
      "include_colab_link": true
    },
    "kernelspec": {
      "name": "python3",
      "display_name": "Python 3"
    },
    "language_info": {
      "name": "python"
    }
  },
  "cells": [
    {
      "cell_type": "markdown",
      "metadata": {
        "id": "view-in-github",
        "colab_type": "text"
      },
      "source": [
        "<a href=\"https://colab.research.google.com/github/lcfdiniz/puc-rio/blob/main/bank-customer-churn/bank_customer_churn.ipynb\" target=\"_parent\"><img src=\"https://colab.research.google.com/assets/colab-badge.svg\" alt=\"Open In Colab\"/></a>"
      ]
    },
    {
      "cell_type": "markdown",
      "source": [
        "# Predição de churn para clientes de banco\n",
        "\n",
        "por [Lucas Fiorani Diniz](https://www.linkedin.com/in/lcfdiniz/)"
      ],
      "metadata": {
        "id": "oJr5G_lkO7XF"
      }
    },
    {
      "cell_type": "markdown",
      "source": [
        "## Definição do Problema"
      ],
      "metadata": {
        "id": "PiOy0PNzLwPr"
      }
    },
    {
      "cell_type": "markdown",
      "source": [
        "## Preparação de Dados"
      ],
      "metadata": {
        "id": "RJa1oX7OORdT"
      }
    },
    {
      "cell_type": "markdown",
      "source": [
        "## Modelagem e Treinamento"
      ],
      "metadata": {
        "id": "mgcrpSPGOYCf"
      }
    },
    {
      "cell_type": "markdown",
      "source": [
        "## Avaliação de Resultados"
      ],
      "metadata": {
        "id": "zFgaQVVbObDu"
      }
    }
  ]
}